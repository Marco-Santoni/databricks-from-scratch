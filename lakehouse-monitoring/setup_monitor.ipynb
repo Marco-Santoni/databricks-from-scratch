{
 "cells": [
  {
   "cell_type": "markdown",
   "metadata": {
    "application/vnd.databricks.v1+cell": {
     "cellMetadata": {},
     "inputWidgets": {},
     "nuid": "ed45272b-a259-4b92-9b75-92c2c864c501",
     "showTitle": false,
     "tableResultSettingsMap": {},
     "title": ""
    }
   },
   "source": [
    "- [Setup a toy Lakehouse Monitoring](#setup-a-toy-lakehouse-monitoring)  \n",
    "  - [Dashboard](#dashboard)  \n",
    "  - [Alerts](#alerts)  \n",
    "- [Pricing](#pricing)  \n",
    "- [My opinion on what I've seen](#my-opinion-on-what-ive-seen)  \n",
    "- [Where's Databricks going?](#wheres-databricks-going)  \n",
    "  - [My2C](#my2c)\n"
   ]
  },
  {
   "cell_type": "markdown",
   "metadata": {
    "application/vnd.databricks.v1+cell": {
     "cellMetadata": {},
     "inputWidgets": {},
     "nuid": "bb87f392-a0ec-4a11-a34f-e27f21e0bef7",
     "showTitle": false,
     "tableResultSettingsMap": {},
     "title": ""
    }
   },
   "source": [
    "### Setup a toy Lakehouse Monitoring"
   ]
  },
  {
   "cell_type": "markdown",
   "metadata": {
    "application/vnd.databricks.v1+cell": {
     "cellMetadata": {},
     "inputWidgets": {},
     "nuid": "8430647a-e0c3-4f58-b410-e5ff5b518f60",
     "showTitle": false,
     "tableResultSettingsMap": {},
     "title": ""
    }
   },
   "source": [
    "Let's start by creating a table we can work with. It should be a time-series table"
   ]
  },
  {
   "cell_type": "code",
   "execution_count": 0,
   "metadata": {
    "application/vnd.databricks.v1+cell": {
     "cellMetadata": {
      "byteLimit": 2048000,
      "implicitDf": true,
      "rowLimit": 10000
     },
     "inputWidgets": {},
     "nuid": "ee837e00-a86a-4bdc-9085-c18d2ebfeff2",
     "showTitle": false,
     "tableResultSettingsMap": {
      "0": {
       "dataGridStateBlob": "{\"version\":1,\"tableState\":{\"columnPinning\":{\"left\":[\"#row_number#\"],\"right\":[]},\"columnSizing\":{},\"columnVisibility\":{}},\"settings\":{\"columns\":{}},\"syncTimestamp\":1755843222039}",
       "filterBlob": null,
       "queryPlanFiltersBlob": null,
       "tableResultIndex": 0
      }
     },
     "title": ""
    }
   },
   "outputs": [],
   "source": [
    "%sql\n",
    "create table workspace.default.sales (\n",
    "    timestamp TIMESTAMP,\n",
    "    amount DOUBLE\n",
    ")"
   ]
  },
  {
   "cell_type": "markdown",
   "metadata": {
    "application/vnd.databricks.v1+cell": {
     "cellMetadata": {},
     "inputWidgets": {},
     "nuid": "a775158b-524d-486e-ae37-80dc5bbe2e08",
     "showTitle": false,
     "tableResultSettingsMap": {},
     "title": ""
    }
   },
   "source": [
    "\n",
    "I then create a basic notebook `insert 1h of data.ipynb` to fill table with data. Then, setup a job to run that notebook every hour.\n",
    "\n",
    "I'll not add the code here because it is quite basic. It randomly adds records to the table with random values (within the time windown of the hour)."
   ]
  },
  {
   "cell_type": "code",
   "execution_count": 0,
   "metadata": {
    "application/vnd.databricks.v1+cell": {
     "cellMetadata": {
      "byteLimit": 2048000,
      "implicitDf": true,
      "rowLimit": 10000
     },
     "inputWidgets": {},
     "nuid": "8db980c6-aee3-459f-85ae-70c9fbe20966",
     "showTitle": false,
     "tableResultSettingsMap": {},
     "title": ""
    }
   },
   "outputs": [],
   "source": [
    "%sql\n",
    "select * from workspace.default.sales\n",
    "limit 10"
   ]
  },
  {
   "cell_type": "markdown",
   "metadata": {
    "application/vnd.databricks.v1+cell": {
     "cellMetadata": {},
     "inputWidgets": {},
     "nuid": "24d916b0-7606-4d4e-a32d-d1f762be078e",
     "showTitle": false,
     "tableResultSettingsMap": {},
     "title": ""
    }
   },
   "source": [
    "\n",
    "Then, let's create the Monitor via Unity Catalog Explorer 👇\n",
    "\n",
    "I set up the monitor as `TimeSeries` profile. I pointed out the `timestamp` column and a granularity of 1 hour. The schedule of the monitor is actually daily.\n",
    "\n",
    "Below, a screenshot of the Unity Catalog Explorer page to create the Lakehouse Monitoring.\n",
    "\n",
    "![Screenshot of Unity Catalog Explorer page to create the Lakehouse Monitoring](./img/create_monitor.png)"
   ]
  },
  {
   "cell_type": "markdown",
   "metadata": {
    "application/vnd.databricks.v1+cell": {
     "cellMetadata": {},
     "inputWidgets": {},
     "nuid": "7e1fd7b9-c1d0-4e25-acc1-f1a029a6d1a3",
     "showTitle": false,
     "tableResultSettingsMap": {},
     "title": ""
    }
   },
   "source": [
    "What happens after the creation of the Monitoring? By default, two new tables are created\n",
    "\n",
    "- `<table_name>_profile_metrics`\n",
    "- `<table_name>_drift_metrics`\n",
    "\n",
    "Let's inspect them"
   ]
  },
  {
   "cell_type": "code",
   "execution_count": 0,
   "metadata": {
    "application/vnd.databricks.v1+cell": {
     "cellMetadata": {
      "byteLimit": 2048000,
      "implicitDf": true,
      "rowLimit": 10000
     },
     "inputWidgets": {},
     "nuid": "bbef64e2-b63f-4946-aaf2-04dd8aed9592",
     "showTitle": false,
     "tableResultSettingsMap": {},
     "title": ""
    }
   },
   "outputs": [],
   "source": [
    "%sql\n",
    "SHOW TABLES IN workspace.default;"
   ]
  },
  {
   "cell_type": "code",
   "execution_count": 0,
   "metadata": {
    "application/vnd.databricks.v1+cell": {
     "cellMetadata": {
      "byteLimit": 2048000,
      "implicitDf": true,
      "rowLimit": 10000
     },
     "inputWidgets": {},
     "nuid": "c808101b-6e75-4cd5-b802-4a79dcf68caa",
     "showTitle": false,
     "tableResultSettingsMap": {},
     "title": ""
    }
   },
   "outputs": [],
   "source": [
    "%sql\n",
    "select * from workspace.default.sales_profile_metrics"
   ]
  },
  {
   "cell_type": "markdown",
   "metadata": {
    "application/vnd.databricks.v1+cell": {
     "cellMetadata": {},
     "inputWidgets": {},
     "nuid": "ff638580-ab86-431a-b458-361bbc7d4a6f",
     "showTitle": false,
     "tableResultSettingsMap": {},
     "title": ""
    }
   },
   "source": [
    "The **profile** table has a row for each pair\n",
    "- `window` (the beginning and end of every hour)\n",
    "- `column_name` every column of the table. In addition, it adds a special row `:table` to compute the table-level profile.\n",
    "\n",
    "Optionally, it can slice on column values when specified at the time of the creation of the _Monitor_\n",
    "\n",
    "For each row, it computes a bunch of statistics like `avg`, `quantiles`, `min`, `max`, etc. (when applicable, eg for float columns)."
   ]
  },
  {
   "cell_type": "code",
   "execution_count": 0,
   "metadata": {
    "application/vnd.databricks.v1+cell": {
     "cellMetadata": {
      "byteLimit": 2048000,
      "implicitDf": true,
      "rowLimit": 10000
     },
     "inputWidgets": {},
     "nuid": "48db08b0-e74d-4052-b388-15067a961fa6",
     "showTitle": false,
     "tableResultSettingsMap": {},
     "title": ""
    }
   },
   "outputs": [],
   "source": [
    "%sql\n",
    "select * from workspace.default.sales_drift_metrics"
   ]
  },
  {
   "cell_type": "markdown",
   "metadata": {
    "application/vnd.databricks.v1+cell": {
     "cellMetadata": {},
     "inputWidgets": {},
     "nuid": "831bec38-d208-4688-ba60-de1354e98982",
     "showTitle": false,
     "tableResultSettingsMap": {},
     "title": ""
    }
   },
   "source": [
    "The **drift** table is similare to the profile table. The **drift** table has a row for each pair\n",
    "- `window` (the beginning and end of every hour)\n",
    "- `column_name` every column of the table. In addition, it adds a special row `:table` to compute the table-level profile.\n",
    "\n",
    "In addition, it has the `window_cmp`, where _cmp_ stands for _compare_. All the statistics are compared against another window (the previous one). There are various statistics like\n",
    "- `count_delta`\n",
    "- `ks_test`, in statistics, the Kolmogorov–Smirnov can be used to test whether two samples came from the same distribution"
   ]
  },
  {
   "cell_type": "markdown",
   "metadata": {
    "application/vnd.databricks.v1+cell": {
     "cellMetadata": {},
     "inputWidgets": {},
     "nuid": "0b301a45-4035-4fc2-9f60-e462d3bcc8c8",
     "showTitle": false,
     "tableResultSettingsMap": {},
     "title": ""
    }
   },
   "source": [
    "#### Dashboard\n",
    "\n",
    "Lakehouse Monitoring creates also a dashboard automatically that displays the data in these _profile and drift_ tables.\n",
    "\n",
    "😓 However, I find this dashboard too crowded and not ready to use. You need to work on it to customize it by yourself."
   ]
  },
  {
   "cell_type": "markdown",
   "metadata": {
    "application/vnd.databricks.v1+cell": {
     "cellMetadata": {},
     "inputWidgets": {},
     "nuid": "42552195-4404-42bf-b319-1612e7e40214",
     "showTitle": false,
     "tableResultSettingsMap": {},
     "title": ""
    }
   },
   "source": [
    "#### Alerts\n",
    "Monitor alerts are created and used the same way as other Databricks SQL alerts. You create a Databricks SQL query on the monitor profile metrics table or drift metrics table. You then create a Databricks SQL alert for this query."
   ]
  },
  {
   "cell_type": "markdown",
   "metadata": {
    "application/vnd.databricks.v1+cell": {
     "cellMetadata": {},
     "inputWidgets": {},
     "nuid": "33b54d20-9c43-4406-8929-3ab27b0e8068",
     "showTitle": false,
     "tableResultSettingsMap": {},
     "title": ""
    }
   },
   "source": [
    "### Pricing\n",
    "\n",
    "Lakehouse Monitoring is billed under a serverless jobs SKU. You can monitor its usage via `system.billing.usage` table or via the Usage dashboard at Account console.\n",
    "\n",
    "You need to pay attention. I expect that the costs may rise for columns with high number of columns if you don't fine-tune the monitor."
   ]
  },
  {
   "cell_type": "code",
   "execution_count": 0,
   "metadata": {
    "application/vnd.databricks.v1+cell": {
     "cellMetadata": {
      "byteLimit": 2048000,
      "implicitDf": true,
      "rowLimit": 10000
     },
     "inputWidgets": {},
     "nuid": "e0640901-f417-4414-82b9-515b18726f79",
     "showTitle": false,
     "tableResultSettingsMap": {},
     "title": ""
    }
   },
   "outputs": [],
   "source": [
    "%sql\n",
    "SELECT usage_date, sum(usage_quantity) as dbus\n",
    "FROM system.billing.usage\n",
    "WHERE\n",
    "  usage_date >= DATE_SUB(current_date(), 30) AND\n",
    "  sku_name like \"%JOBS_SERVERLESS%\" AND\n",
    "  custom_tags[\"LakehouseMonitoring\"] = \"true\"\n",
    "GROUP BY usage_date\n",
    "ORDER BY usage_date DESC"
   ]
  },
  {
   "cell_type": "markdown",
   "metadata": {
    "application/vnd.databricks.v1+cell": {
     "cellMetadata": {},
     "inputWidgets": {},
     "nuid": "30dff34c-d18b-41aa-8ad8-3851444c2e40",
     "showTitle": false,
     "tableResultSettingsMap": {},
     "title": ""
    }
   },
   "source": [
    "### My opinion on what I've seen\n",
    "\n",
    "Lakehouse monitoring is all about these two profile and drift tables. It is a kind of brute force approach that runs standardized monitoring over the specified table and stores the output in the profiling tables. Is it convenient? It depends on what you're looking for. It is not a free lunch.\n",
    "\n",
    "**Pros 🟢**\n",
    "\n",
    "- It takes little **effort** to setup. By default common controls are applied to all columns in the monitored table.\n",
    "- Most common monitoring scenarios are covered by `TimeSeries` profile or by `Snapshot` profile (I left apart the inference-ML for the sake of simplicity). The **setup time** is shorter when compared to anything made by yourself.\n",
    "- You have a framework ready to use. You save the time required designing it, and you avoid reinventing the wheel. You can **focus on your business** needs rather than on data engineering stuff.\n",
    "- I like the simple but effective **design** of the _drift_ metric table and of the windowing. Making something like this by yourself will probably let you hit against some hidden edge-case (like anytime you work with time and dates). \n",
    "\n",
    "**Cons 🔴**\n",
    "\n",
    "- Once the metrics are computed in the profile and drift tables, only half of the job is done. You still have to decide **what** to monitor and **how** to do it. You're probably not interested in monitor any single column in any row of the metric tables (otherwise you may alerted by too many false alarms). A finetuning of the actual alerts is still required, and it is not coming for free.\n",
    "- You can't know in advance the overall **cost** of the monitoring. You need to try with a realistic (production-alike) scenario and monitor soon how much you're paying. I expect it to depend mainly on\n",
    "  - the data volume\n",
    "  - the columns in the table\n",
    "  - the frequency of the controls\n",
    "\n"
   ]
  },
  {
   "cell_type": "markdown",
   "metadata": {
    "application/vnd.databricks.v1+cell": {
     "cellMetadata": {
      "byteLimit": 2048000,
      "rowLimit": 10000
     },
     "inputWidgets": {},
     "nuid": "c0f6ca20-b24f-405e-8389-2cbc9565548f",
     "showTitle": false,
     "tableResultSettingsMap": {},
     "title": ""
    }
   },
   "source": [
    "### Where's Databricks going?\n",
    "\n",
    "In addition to Lakehouse Monitoring, Databricks has released a feature (in Beta) of [data quality monitoring](https://docs.databricks.com/aws/en/lakehouse-monitoring/data-quality-monitoring). This new monitoring\n",
    "\n",
    "- is quicker to setup. It is toggle on an entire Schema and monitors all the tables in the schema.\n",
    "- monitors only simple freshness and completeness quality controls\n",
    "- has no parametrization\n",
    "- still needs alerts to be set manually\n",
    "\n",
    "I made a short recap here.\n",
    "\n",
    "| Feature                    | Lakehouse Monitoring                          | Data Quality Monitoring (Beta)            |\n",
    "|----------------------------|-----------------------------------------------|-------------------------------------------|\n",
    "| Scope | Table. It is set at table level. It monitors the table and its columns. | Schema. It is set at schema level and monitors all tables in such schema. |\n",
    "| Setup | Choose the profile, eventual slicing, window and frequency. | On-off on the schema. |\n",
    "| What is monitored | Various statistics as snapshot, time series, and inference. | Freshness (is data recent) and completeness (is the volume as expected?) |\n",
    "| Customization              | Limited | No |\n",
    "| Alert | To be set manually on the output table. | To be set manually on the output table. |"
   ]
  },
  {
   "cell_type": "markdown",
   "metadata": {
    "application/vnd.databricks.v1+cell": {
     "cellMetadata": {},
     "inputWidgets": {},
     "nuid": "8e5a6f5f-f9c5-4765-8ac2-b596e1780511",
     "showTitle": false,
     "tableResultSettingsMap": {},
     "title": ""
    }
   },
   "source": [
    "\n",
    "#### My2C\n",
    "\n",
    "🟢 I think Databricks is going in the right direction. Fast adoption of basic quality controls. Avoid the \"_didn't notice data is old in production_\" moments with little effort.\n",
    "\n",
    "🔴 The alerting setup is still quite SQL-based and there is some trial-and-error around it. I would expect that a basic alert should be enabled by default."
   ]
  }
 ],
 "metadata": {
  "application/vnd.databricks.v1+notebook": {
   "computePreferences": null,
   "dashboards": [],
   "environmentMetadata": {
    "base_environment": "",
    "environment_version": "2"
   },
   "inputWidgetPreferences": null,
   "language": "python",
   "notebookMetadata": {
    "mostRecentlyExecutedCommandWithImplicitDF": {
     "commandId": 4898857583482089,
     "dataframes": [
      "_sqldf"
     ]
    },
    "pythonIndentUnit": 4
   },
   "notebookName": "setup_monitor",
   "widgets": {}
  },
  "language_info": {
   "name": "python"
  }
 },
 "nbformat": 4,
 "nbformat_minor": 0
}

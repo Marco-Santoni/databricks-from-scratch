{
 "cells": [
  {
   "cell_type": "markdown",
   "metadata": {
    "application/vnd.databricks.v1+cell": {
     "cellMetadata": {},
     "inputWidgets": {},
     "nuid": "f6dd2d88-5a7d-4f96-9dcd-c52e50a0c58e",
     "showTitle": false,
     "title": ""
    }
   },
   "source": [
    "## Exercise\n",
    "Given the file `/databricks-datasets/learning-spark-v2/loans/loan-risks.snappy.parquet`\n",
    "- compute the `lacking_amnt` column defined as the difference between funded and paid amount\n",
    "- create a table with 2 columns: `addr_state` and `avg_lacking_amnt`\n",
    "- fill the table with the average `lacking_amnt` by state"
   ]
  },
  {
   "cell_type": "code",
   "execution_count": 0,
   "metadata": {
    "application/vnd.databricks.v1+cell": {
     "cellMetadata": {
      "byteLimit": 2048000,
      "implicitDf": true,
      "rowLimit": 10000
     },
     "inputWidgets": {},
     "nuid": "ef65a97b-b2e6-42e3-902b-355e0802927f",
     "showTitle": false,
     "title": ""
    }
   },
   "outputs": [
    {
     "output_type": "display_data",
     "data": {
      "text/html": [
       "<style scoped>\n",
       "  .table-result-container {\n",
       "    max-height: 300px;\n",
       "    overflow: auto;\n",
       "  }\n",
       "  table, th, td {\n",
       "    border: 1px solid black;\n",
       "    border-collapse: collapse;\n",
       "  }\n",
       "  th, td {\n",
       "    padding: 5px;\n",
       "  }\n",
       "  th {\n",
       "    text-align: left;\n",
       "  }\n",
       "</style><div class='table-result-container'><table class='table-result'><thead style='background-color: white'><tr></tr></thead><tbody></tbody></table></div>"
      ]
     },
     "metadata": {
      "application/vnd.databricks.v1+output": {
       "addedWidgets": {},
       "aggData": [],
       "aggError": "",
       "aggOverflow": false,
       "aggSchema": [],
       "aggSeriesLimitReached": false,
       "aggType": "",
       "arguments": {},
       "columnCustomDisplayInfos": {},
       "data": [],
       "datasetInfos": [],
       "dbfsResultPath": null,
       "isJsonSchema": true,
       "metadata": {},
       "overflow": false,
       "plotOptions": {
        "customPlotOptions": {},
        "displayType": "table",
        "pivotAggregation": null,
        "pivotColumns": null,
        "xColumns": null,
        "yColumns": null
       },
       "removedWidgets": [],
       "schema": [],
       "type": "table"
      }
     },
     "output_type": "display_data"
    }
   ],
   "source": [
    "%sql\n",
    "create table lacking_amounts (addr_state string, avg_lacking_amnt float)"
   ]
  },
  {
   "cell_type": "code",
   "execution_count": 0,
   "metadata": {
    "application/vnd.databricks.v1+cell": {
     "cellMetadata": {
      "byteLimit": 2048000,
      "rowLimit": 10000
     },
     "inputWidgets": {},
     "nuid": "8b8cda2e-bc90-49f0-8c15-e510ac427ba9",
     "showTitle": false,
     "title": ""
    }
   },
   "outputs": [],
   "source": [
    "df = spark.read.parquet('/databricks-datasets/learning-spark-v2/loans/loan-risks.snappy.parquet')\n",
    "(\n",
    "    df.withColumn('lacking_amnt', df.funded_amnt - df.paid_amnt)\n",
    "    .groupBy('addr_state').agg(\n",
    "        {'lacking_amnt': 'avg'}\n",
    "    ).write.insertInto('lacking_amounts')\n",
    ")"
   ]
  },
  {
   "cell_type": "code",
   "execution_count": 0,
   "metadata": {
    "application/vnd.databricks.v1+cell": {
     "cellMetadata": {
      "byteLimit": 2048000,
      "implicitDf": true,
      "rowLimit": 10000
     },
     "inputWidgets": {},
     "nuid": "7417bc3f-2518-43a8-839a-2c205039c366",
     "showTitle": false,
     "title": ""
    }
   },
   "outputs": [
    {
     "output_type": "display_data",
     "data": {
      "text/html": [
       "<style scoped>\n",
       "  .table-result-container {\n",
       "    max-height: 300px;\n",
       "    overflow: auto;\n",
       "  }\n",
       "  table, th, td {\n",
       "    border: 1px solid black;\n",
       "    border-collapse: collapse;\n",
       "  }\n",
       "  th, td {\n",
       "    padding: 5px;\n",
       "  }\n",
       "  th {\n",
       "    text-align: left;\n",
       "  }\n",
       "</style><div class='table-result-container'><table class='table-result'><thead style='background-color: white'><tr><th>addr_state</th><th>avg_lacking_amnt</th></tr></thead><tbody><tr><td>AZ</td><td>6348.4834</td></tr><tr><td>SC</td><td>6083.045</td></tr><tr><td>LA</td><td>7240.333</td></tr><tr><td>MN</td><td>6496.8306</td></tr><tr><td>NJ</td><td>6786.805</td></tr><tr><td>DC</td><td>8795.4</td></tr><tr><td>OR</td><td>6270.8423</td></tr><tr><td>VA</td><td>8259.802</td></tr><tr><td>RI</td><td>6967.3784</td></tr><tr><td>WY</td><td>6433.6895</td></tr></tbody></table></div>"
      ]
     },
     "metadata": {
      "application/vnd.databricks.v1+output": {
       "addedWidgets": {},
       "aggData": [],
       "aggError": "",
       "aggOverflow": false,
       "aggSchema": [],
       "aggSeriesLimitReached": false,
       "aggType": "",
       "arguments": {},
       "columnCustomDisplayInfos": {},
       "data": [
        [
         "AZ",
         6348.4834
        ],
        [
         "SC",
         6083.045
        ],
        [
         "LA",
         7240.333
        ],
        [
         "MN",
         6496.8306
        ],
        [
         "NJ",
         6786.805
        ],
        [
         "DC",
         8795.4
        ],
        [
         "OR",
         6270.8423
        ],
        [
         "VA",
         8259.802
        ],
        [
         "RI",
         6967.3784
        ],
        [
         "WY",
         6433.6895
        ]
       ],
       "datasetInfos": [],
       "dbfsResultPath": null,
       "isJsonSchema": true,
       "metadata": {},
       "overflow": false,
       "plotOptions": {
        "customPlotOptions": {},
        "displayType": "table",
        "pivotAggregation": null,
        "pivotColumns": null,
        "xColumns": null,
        "yColumns": null
       },
       "removedWidgets": [],
       "schema": [
        {
         "metadata": "{}",
         "name": "addr_state",
         "type": "\"string\""
        },
        {
         "metadata": "{}",
         "name": "avg_lacking_amnt",
         "type": "\"float\""
        }
       ],
       "type": "table"
      }
     },
     "output_type": "display_data"
    }
   ],
   "source": [
    "%sql\n",
    "select * from lacking_amounts limit 10"
   ]
  }
 ],
 "metadata": {
  "application/vnd.databricks.v1+notebook": {
   "dashboards": [],
   "language": "python",
   "notebookMetadata": {
    "mostRecentlyExecutedCommandWithImplicitDF": {
     "commandId": 1844129955146363,
     "dataframes": [
      "_sqldf"
     ]
    },
    "pythonIndentUnit": 4
   },
   "notebookName": "lezione 2023-10-23",
   "widgets": {}
  }
 },
 "nbformat": 4,
 "nbformat_minor": 0
}

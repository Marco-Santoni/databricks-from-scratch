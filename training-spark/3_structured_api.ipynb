{
 "cells": [
  {
   "cell_type": "markdown",
   "metadata": {
    "application/vnd.databricks.v1+cell": {
     "cellMetadata": {
      "byteLimit": 2048000,
      "rowLimit": 10000
     },
     "inputWidgets": {},
     "nuid": "13055c75-e8a7-4d45-b220-3154eaad13d5",
     "showTitle": false,
     "title": ""
    }
   },
   "source": [
    "[_Ref: Learning Spark - Chapter 3, Damji et al_]\n",
    "\n",
    "There are three key Spark interfaces that you should know about. [Ref](https://databricks.com/spark/getting-started-with-apache-spark/quick-start#spark-interfaces)\n",
    "\n",
    "- RDD (*original data structure for Apache Spark*)\n",
    "- 💗 DataFrame (*most common today*)\n",
    "- Datasets (*Java and Scala only*)\n",
    "\n",
    "The RDD is the most basic abstraction in Spark, a simple programming API model upon which all higher-level functionality is constructed. However, RDD APIs are not expressive, and you don't want to use them in most of the scenarios.\n",
    "\n",
    "Spark 2.x introduced a few key schemes for structuring Spark. One is to express computations by using common patterns found in data analysis. These patterns are expressed as high-level operations such as filtering, selecting, counting, aggregating, averaging, and grouping. This provides added clarity and simplicity.\n",
    "\n",
    "### Is it efficient? - Opaqueness of RDD\n",
    "\n",
    "The computation of an RDD is opaque to Spark. That is, Spark does not know what you are doing in the compute function. Whether you are performing a join, filter, select, or aggregation, Spark only sees it as a lambda expression. Another problem is that the data type is also opaque for Python RDDs; Spark only knows that it’s a generic object in Python.\n",
    "\n",
    "This opacity clearly hampers Spark’s ability to rearrange your computation into an efficient query plan.\n",
    "\n",
    "What about **DataFrame** APIs? Their operators let you tell Spark what you wish to compute with your data, and as a result, it can construct an efficient query plan for execution. Structure yields a number of benefits, including better performance and space efficiency across Spark components."
   ]
  },
  {
   "cell_type": "markdown",
   "metadata": {
    "application/vnd.databricks.v1+cell": {
     "cellMetadata": {
      "byteLimit": 2048000,
      "rowLimit": 10000
     },
     "inputWidgets": {},
     "nuid": "42a6f1c5-ec76-4560-a950-61640c5928ef",
     "showTitle": false,
     "title": ""
    }
   },
   "source": [
    "## DataFrame APIs\n",
    "\n",
    "A `DataFrame` looks like a table to us, and they are actually distributed in-memory tables (and remind us of Pandas' DataFrames).\n",
    "\n",
    "Each column is assigned a [data type](https://spark.apache.org/docs/latest/sql-ref-datatypes.html). They can be summarized in two main categories\n",
    "\n",
    "- basic data types\n",
    "  - numeric (`IntegerType`, `FloatType`, etc)\n",
    "  - strings (`StringType`, etc)\n",
    "  - boolean\n",
    "- structured and complex types\n",
    "  - date and time (`TimestampType`, `DateType`, `DayTimeIntervalType`, etc)\n",
    "  - structures (`ArrayType`, `MapType`, `StructField`)"
   ]
  },
  {
   "cell_type": "code",
   "execution_count": 0,
   "metadata": {
    "application/vnd.databricks.v1+cell": {
     "cellMetadata": {
      "byteLimit": 2048000,
      "rowLimit": 10000
     },
     "inputWidgets": {},
     "nuid": "213ce4fd-1e25-40e1-8657-6d8cf89ef4d3",
     "showTitle": false,
     "title": ""
    }
   },
   "outputs": [
    {
     "output_type": "stream",
     "name": "stdout",
     "output_type": "stream",
     "text": [
      "+-----+-----+-----+\n|State|Color|Count|\n+-----+-----+-----+\n|   TX|  Red|   20|\n|   NV| Blue|   66|\n|   CO| Blue|   79|\n+-----+-----+-----+\nonly showing top 3 rows\n\n"
     ]
    }
   ],
   "source": [
    "# data types can be inferred automatically by Spark\n",
    "df = spark.read.csv('dbfs:/databricks-datasets/learning-spark-v2/mnm_dataset.csv', header=True)\n",
    "df.show(3)"
   ]
  },
  {
   "cell_type": "markdown",
   "metadata": {
    "application/vnd.databricks.v1+cell": {
     "cellMetadata": {
      "byteLimit": 2048000,
      "rowLimit": 10000
     },
     "inputWidgets": {},
     "nuid": "c07d31ff-932f-4190-9b1f-3cc1520e1ff9",
     "showTitle": false,
     "title": ""
    }
   },
   "source": [
    "However, it is also possible to define the schema and the data type **before** reading the data (and this is actually recommended).\n",
    "\n",
    "❓🙋‍♀️🙋‍♂️\n",
    "Why is it recommended to define the schema before reading a dataset?\n",
    "\n",
    ".\n",
    "\n",
    ".\n",
    "\n",
    ".\n",
    "\n",
    ".\n",
    "\n",
    ".\n",
    "\n",
    ".\n",
    "\n",
    ".\n",
    "\n",
    "."
   ]
  },
  {
   "cell_type": "code",
   "execution_count": 0,
   "metadata": {
    "application/vnd.databricks.v1+cell": {
     "cellMetadata": {
      "byteLimit": 2048000,
      "rowLimit": 10000
     },
     "inputWidgets": {},
     "nuid": "95c46166-471a-4a31-8f2b-9d0743f7fcec",
     "showTitle": false,
     "title": ""
    }
   },
   "outputs": [
    {
     "output_type": "stream",
     "name": "stdout",
     "output_type": "stream",
     "text": [
      "root\n |-- State: string (nullable = true)\n |-- Color: string (nullable = true)\n |-- Count: string (nullable = true)\n\n"
     ]
    }
   ],
   "source": [
    "df.printSchema()"
   ]
  },
  {
   "cell_type": "markdown",
   "metadata": {
    "application/vnd.databricks.v1+cell": {
     "cellMetadata": {
      "byteLimit": 2048000,
      "rowLimit": 10000
     },
     "inputWidgets": {},
     "nuid": "dcef990a-a2d2-417f-9bfe-ec04007a9634",
     "showTitle": false,
     "title": ""
    }
   },
   "source": [
    "Three main advantages\n",
    "\n",
    "1. performance. When Spark has to infer the schema, it reads part of the dataset just to make this inference. It can be avoided if you tell Spark what data types you expect from each column.\n",
    "2. precision. Spark might choose the wrong data types when inferring.\n",
    "3. errors. There can be errors in some datasets (wrong formatting, etc). These errors can be spotted if the data does not match the data."
   ]
  },
  {
   "cell_type": "code",
   "execution_count": 0,
   "metadata": {
    "application/vnd.databricks.v1+cell": {
     "cellMetadata": {
      "byteLimit": 2048000,
      "rowLimit": 10000
     },
     "inputWidgets": {},
     "nuid": "960d54f9-e0fb-470c-9a4c-87d1eba1ae33",
     "showTitle": false,
     "title": ""
    }
   },
   "outputs": [],
   "source": [
    "# Let's define a schema BEFORE reading the data\n",
    "from pyspark.sql.types import StructType, StructField, StringType, IntegerType\n",
    "\n",
    "schema = StructType([\n",
    "    StructField(\"State\", StringType(), False),\n",
    "    StructField(\"Color\", StringType(), False),\n",
    "    StructField(\"Count\", IntegerType(), False)\n",
    "])"
   ]
  },
  {
   "cell_type": "code",
   "execution_count": 0,
   "metadata": {
    "application/vnd.databricks.v1+cell": {
     "cellMetadata": {
      "byteLimit": 2048000,
      "rowLimit": 10000
     },
     "inputWidgets": {},
     "nuid": "bf4310ea-ffaf-48ff-bc72-a9d287552b81",
     "showTitle": false,
     "title": ""
    }
   },
   "outputs": [],
   "source": [
    "df = spark.read.csv(\n",
    "    'dbfs:/databricks-datasets/learning-spark-v2/mnm_dataset.csv',\n",
    "    schema=schema,\n",
    "    header=True\n",
    ")"
   ]
  },
  {
   "cell_type": "code",
   "execution_count": 0,
   "metadata": {
    "application/vnd.databricks.v1+cell": {
     "cellMetadata": {
      "byteLimit": 2048000,
      "rowLimit": 10000
     },
     "inputWidgets": {},
     "nuid": "4732bc0b-8bb0-48a3-943d-a959ef880987",
     "showTitle": false,
     "title": ""
    }
   },
   "outputs": [
    {
     "output_type": "stream",
     "name": "stdout",
     "output_type": "stream",
     "text": [
      "root\n |-- State: string (nullable = true)\n |-- Color: string (nullable = true)\n |-- Count: integer (nullable = true)\n\n"
     ]
    }
   ],
   "source": [
    "df.printSchema()"
   ]
  },
  {
   "cell_type": "code",
   "execution_count": 0,
   "metadata": {
    "application/vnd.databricks.v1+cell": {
     "cellMetadata": {
      "byteLimit": 2048000,
      "rowLimit": 10000
     },
     "inputWidgets": {},
     "nuid": "265f27ae-b7cf-4138-b79d-76cbaa6dbe18",
     "showTitle": false,
     "title": ""
    }
   },
   "outputs": [
    {
     "output_type": "stream",
     "name": "stdout",
     "output_type": "stream",
     "text": [
      "+-----+-----+-----+\n|State|Color|Count|\n+-----+-----+-----+\n|   TX|  Red|   20|\n|   NV| Blue|   66|\n|   CO| Blue|   79|\n+-----+-----+-----+\nonly showing top 3 rows\n\n"
     ]
    }
   ],
   "source": [
    "df.show(3)"
   ]
  },
  {
   "cell_type": "markdown",
   "metadata": {
    "application/vnd.databricks.v1+cell": {
     "cellMetadata": {
      "byteLimit": 2048000,
      "rowLimit": 10000
     },
     "inputWidgets": {},
     "nuid": "f62c20ad-f787-435d-9914-ef05929022be",
     "showTitle": false,
     "title": ""
    }
   },
   "source": [
    "Writing a schema from scratch is tedious. Can I speed it up? Yes, we can print the schema definition of an existing schema."
   ]
  },
  {
   "cell_type": "code",
   "execution_count": 0,
   "metadata": {
    "application/vnd.databricks.v1+cell": {
     "cellMetadata": {
      "byteLimit": 2048000,
      "rowLimit": 10000
     },
     "inputWidgets": {},
     "nuid": "32cab221-1547-4acc-b441-c99e2c4e39d6",
     "showTitle": false,
     "title": ""
    }
   },
   "outputs": [
    {
     "output_type": "stream",
     "name": "stdout",
     "output_type": "stream",
     "text": [
      "Out[7]: StructType([StructField('State', StringType(), True), StructField('Color', StringType(), True), StructField('Count', IntegerType(), True)])"
     ]
    }
   ],
   "source": [
    "df.schema"
   ]
  },
  {
   "cell_type": "markdown",
   "metadata": {
    "application/vnd.databricks.v1+cell": {
     "cellMetadata": {
      "byteLimit": 2048000,
      "rowLimit": 10000
     },
     "inputWidgets": {},
     "nuid": "43528709-9fcf-49dc-bc9b-1a9699719292",
     "showTitle": false,
     "title": ""
    }
   },
   "source": [
    "### Columns and expressions\n",
    "\n",
    "What are actually the columns of a `DataFrame`? They are objects, `Column` objects. They can be accessed in different ways including the `col` method."
   ]
  },
  {
   "cell_type": "code",
   "execution_count": 0,
   "metadata": {
    "application/vnd.databricks.v1+cell": {
     "cellMetadata": {
      "byteLimit": 2048000,
      "rowLimit": 10000
     },
     "inputWidgets": {},
     "nuid": "293968bc-ee87-48f2-b21c-6c9357d28fd6",
     "showTitle": false,
     "title": ""
    }
   },
   "outputs": [
    {
     "output_type": "stream",
     "name": "stdout",
     "output_type": "stream",
     "text": [
      "Out[8]: Column<'Count'>"
     ]
    }
   ],
   "source": [
    "df.Count"
   ]
  },
  {
   "cell_type": "code",
   "execution_count": 0,
   "metadata": {
    "application/vnd.databricks.v1+cell": {
     "cellMetadata": {
      "byteLimit": 2048000,
      "rowLimit": 10000
     },
     "inputWidgets": {},
     "nuid": "af80fbfc-71e8-4fb1-882c-38c18013f7a9",
     "showTitle": false,
     "title": ""
    }
   },
   "outputs": [],
   "source": [
    "from pyspark.sql.functions import col"
   ]
  },
  {
   "cell_type": "code",
   "execution_count": 0,
   "metadata": {
    "application/vnd.databricks.v1+cell": {
     "cellMetadata": {
      "byteLimit": 2048000,
      "rowLimit": 10000
     },
     "inputWidgets": {},
     "nuid": "f82bce46-5930-40bb-9d54-b55da56f61fd",
     "showTitle": false,
     "title": ""
    }
   },
   "outputs": [
    {
     "output_type": "stream",
     "name": "stdout",
     "output_type": "stream",
     "text": [
      "Out[10]: Column<'Count'>"
     ]
    }
   ],
   "source": [
    "col('Count')"
   ]
  },
  {
   "cell_type": "markdown",
   "metadata": {
    "application/vnd.databricks.v1+cell": {
     "cellMetadata": {
      "byteLimit": 2048000,
      "rowLimit": 10000
     },
     "inputWidgets": {},
     "nuid": "5c74c6e2-1a9e-4d6c-a55e-aab0ae19f34e",
     "showTitle": false,
     "title": ""
    }
   },
   "source": [
    "Let's see what we can do with columns and how we can transform them."
   ]
  },
  {
   "cell_type": "code",
   "execution_count": 0,
   "metadata": {
    "application/vnd.databricks.v1+cell": {
     "cellMetadata": {
      "byteLimit": 2048000,
      "rowLimit": 10000
     },
     "inputWidgets": {},
     "nuid": "7093aafe-5a09-42f1-a77e-a869a53124bf",
     "showTitle": false,
     "title": ""
    }
   },
   "outputs": [
    {
     "output_type": "stream",
     "name": "stdout",
     "output_type": "stream",
     "text": [
      "+-----+\n|Count|\n+-----+\n|   20|\n|   66|\n|   79|\n+-----+\nonly showing top 3 rows\n\n"
     ]
    }
   ],
   "source": [
    "# select columns using col\n",
    "df.select(col('Count')).show(3)"
   ]
  },
  {
   "cell_type": "code",
   "execution_count": 0,
   "metadata": {
    "application/vnd.databricks.v1+cell": {
     "cellMetadata": {
      "byteLimit": 2048000,
      "rowLimit": 10000
     },
     "inputWidgets": {},
     "nuid": "c182847a-be98-4b0c-8679-4c6294313ee1",
     "showTitle": false,
     "title": ""
    }
   },
   "outputs": [
    {
     "output_type": "stream",
     "name": "stdout",
     "output_type": "stream",
     "text": [
      "+-----+\n|Count|\n+-----+\n|   20|\n|   66|\n|   79|\n+-----+\nonly showing top 3 rows\n\n"
     ]
    }
   ],
   "source": [
    "# select columns using DataFrame.NameOfColumn\n",
    "df.select(df.Count).show(3)"
   ]
  },
  {
   "cell_type": "code",
   "execution_count": 0,
   "metadata": {
    "application/vnd.databricks.v1+cell": {
     "cellMetadata": {
      "byteLimit": 2048000,
      "rowLimit": 10000
     },
     "inputWidgets": {},
     "nuid": "a6666b0e-10a4-479e-883b-63d4208e2aa4",
     "showTitle": false,
     "title": ""
    }
   },
   "outputs": [
    {
     "output_type": "stream",
     "name": "stdout",
     "output_type": "stream",
     "text": [
      "+------------+\n|(Count * 10)|\n+------------+\n|         200|\n|         660|\n|         790|\n+------------+\nonly showing top 3 rows\n\n+------------+\n|(Count * 10)|\n+------------+\n|         200|\n|         660|\n|         790|\n+------------+\nonly showing top 3 rows\n\n"
     ]
    }
   ],
   "source": [
    "# We can transform a column via expr or using direct python operators\n",
    "df.select(df.Count * 10).show(3)\n",
    "\n",
    "from pyspark.sql.functions import expr\n",
    "df.select(expr('Count * 10')).show(3)"
   ]
  },
  {
   "cell_type": "code",
   "execution_count": 0,
   "metadata": {
    "application/vnd.databricks.v1+cell": {
     "cellMetadata": {
      "byteLimit": 2048000,
      "rowLimit": 10000
     },
     "inputWidgets": {},
     "nuid": "1989e66d-6144-44d8-baef-7529fbe54f40",
     "showTitle": false,
     "title": ""
    }
   },
   "outputs": [
    {
     "output_type": "stream",
     "name": "stdout",
     "output_type": "stream",
     "text": [
      "+-----+-----+-----+---------+\n|State|Color|Count|halfCount|\n+-----+-----+-----+---------+\n|   TX|  Red|   20|     10.0|\n|   NV| Blue|   66|     33.0|\n|   CO| Blue|   79|     39.5|\n+-----+-----+-----+---------+\nonly showing top 3 rows\n\n+-----+-----+-----+---------+\n|State|Color|Count|halfCount|\n+-----+-----+-----+---------+\n|   TX|  Red|   20|     10.0|\n|   NV| Blue|   66|     33.0|\n|   CO| Blue|   79|     39.5|\n+-----+-----+-----+---------+\nonly showing top 3 rows\n\n+-----+-----+-----+---------+\n|State|Color|Count|halfCount|\n+-----+-----+-----+---------+\n|   TX|  Red|   20|     10.0|\n|   NV| Blue|   66|     33.0|\n|   CO| Blue|   79|     39.5|\n+-----+-----+-----+---------+\nonly showing top 3 rows\n\n"
     ]
    }
   ],
   "source": [
    "# With withColumn, we can define a new column that is computed based on other columns' values\n",
    "df.withColumn('halfCount', df.Count / 2).show(3)\n",
    "df.withColumn('halfCount', col('Count') / 2).show(3)\n",
    "df.withColumn('halfCount', expr('Count / 2')).show(3)"
   ]
  },
  {
   "cell_type": "code",
   "execution_count": 0,
   "metadata": {
    "application/vnd.databricks.v1+cell": {
     "cellMetadata": {
      "byteLimit": 2048000,
      "rowLimit": 10000
     },
     "inputWidgets": {},
     "nuid": "45c1d883-24fe-44de-bb20-199bf8da1327",
     "showTitle": false,
     "title": ""
    }
   },
   "outputs": [
    {
     "output_type": "stream",
     "name": "stdout",
     "output_type": "stream",
     "text": [
      "+----------+\n|StateColor|\n+----------+\n|     TXRed|\n|    NVBlue|\n|    COBlue|\n+----------+\nonly showing top 3 rows\n\n"
     ]
    }
   ],
   "source": [
    "# we can concatenate columns too\n",
    "from pyspark.sql.functions import concat\n",
    "df.withColumn('StateColor', concat(df.State, df.Color))\\\n",
    "  .select('StateColor').show(3)"
   ]
  },
  {
   "cell_type": "code",
   "execution_count": 0,
   "metadata": {
    "application/vnd.databricks.v1+cell": {
     "cellMetadata": {
      "byteLimit": 2048000,
      "rowLimit": 10000
     },
     "inputWidgets": {},
     "nuid": "b97296ac-e12c-464a-a0ad-9089cd8eb4fe",
     "showTitle": false,
     "title": ""
    }
   },
   "outputs": [
    {
     "output_type": "display_data",
     "data": {
      "text/plain": [
       "\u001B[0;31m---------------------------------------------------------------------------\u001B[0m\n",
       "\u001B[0;31mAnalysisException\u001B[0m                         Traceback (most recent call last)\n",
       "File \u001B[0;32m<command-1933447525078976>:2\u001B[0m\n",
       "\u001B[1;32m      1\u001B[0m \u001B[38;5;66;03m# what if I'd like to split them with a '-'?\u001B[39;00m\n",
       "\u001B[0;32m----> 2\u001B[0m \u001B[43mdf\u001B[49m\u001B[38;5;241;43m.\u001B[39;49m\u001B[43mwithColumn\u001B[49m\u001B[43m(\u001B[49m\u001B[38;5;124;43m'\u001B[39;49m\u001B[38;5;124;43mStateColor\u001B[39;49m\u001B[38;5;124;43m'\u001B[39;49m\u001B[43m,\u001B[49m\u001B[43m \u001B[49m\u001B[43mconcat\u001B[49m\u001B[43m(\u001B[49m\u001B[43mdf\u001B[49m\u001B[38;5;241;43m.\u001B[39;49m\u001B[43mState\u001B[49m\u001B[43m,\u001B[49m\u001B[43m \u001B[49m\u001B[38;5;124;43m'\u001B[39;49m\u001B[38;5;124;43m - \u001B[39;49m\u001B[38;5;124;43m'\u001B[39;49m\u001B[43m,\u001B[49m\u001B[43m \u001B[49m\u001B[43mdf\u001B[49m\u001B[38;5;241;43m.\u001B[39;49m\u001B[43mColor\u001B[49m\u001B[43m)\u001B[49m\u001B[43m)\u001B[49m\\\n",
       "\u001B[1;32m      3\u001B[0m   \u001B[38;5;241m.\u001B[39mselect(\u001B[38;5;124m'\u001B[39m\u001B[38;5;124mStateColor\u001B[39m\u001B[38;5;124m'\u001B[39m)\u001B[38;5;241m.\u001B[39mshow(\u001B[38;5;241m3\u001B[39m)\n",
       "\n",
       "File \u001B[0;32m/databricks/spark/python/pyspark/instrumentation_utils.py:48\u001B[0m, in \u001B[0;36m_wrap_function.<locals>.wrapper\u001B[0;34m(*args, **kwargs)\u001B[0m\n",
       "\u001B[1;32m     46\u001B[0m start \u001B[38;5;241m=\u001B[39m time\u001B[38;5;241m.\u001B[39mperf_counter()\n",
       "\u001B[1;32m     47\u001B[0m \u001B[38;5;28;01mtry\u001B[39;00m:\n",
       "\u001B[0;32m---> 48\u001B[0m     res \u001B[38;5;241m=\u001B[39m \u001B[43mfunc\u001B[49m\u001B[43m(\u001B[49m\u001B[38;5;241;43m*\u001B[39;49m\u001B[43margs\u001B[49m\u001B[43m,\u001B[49m\u001B[43m \u001B[49m\u001B[38;5;241;43m*\u001B[39;49m\u001B[38;5;241;43m*\u001B[39;49m\u001B[43mkwargs\u001B[49m\u001B[43m)\u001B[49m\n",
       "\u001B[1;32m     49\u001B[0m     logger\u001B[38;5;241m.\u001B[39mlog_success(\n",
       "\u001B[1;32m     50\u001B[0m         module_name, class_name, function_name, time\u001B[38;5;241m.\u001B[39mperf_counter() \u001B[38;5;241m-\u001B[39m start, signature\n",
       "\u001B[1;32m     51\u001B[0m     )\n",
       "\u001B[1;32m     52\u001B[0m     \u001B[38;5;28;01mreturn\u001B[39;00m res\n",
       "\n",
       "File \u001B[0;32m/databricks/spark/python/pyspark/sql/dataframe.py:4758\u001B[0m, in \u001B[0;36mDataFrame.withColumn\u001B[0;34m(self, colName, col)\u001B[0m\n",
       "\u001B[1;32m   4753\u001B[0m \u001B[38;5;28;01mif\u001B[39;00m \u001B[38;5;129;01mnot\u001B[39;00m \u001B[38;5;28misinstance\u001B[39m(col, Column):\n",
       "\u001B[1;32m   4754\u001B[0m     \u001B[38;5;28;01mraise\u001B[39;00m PySparkTypeError(\n",
       "\u001B[1;32m   4755\u001B[0m         error_class\u001B[38;5;241m=\u001B[39m\u001B[38;5;124m\"\u001B[39m\u001B[38;5;124mNOT_A_COLUMN\u001B[39m\u001B[38;5;124m\"\u001B[39m,\n",
       "\u001B[1;32m   4756\u001B[0m         message_parameters\u001B[38;5;241m=\u001B[39m{\u001B[38;5;124m\"\u001B[39m\u001B[38;5;124marg_name\u001B[39m\u001B[38;5;124m\"\u001B[39m: \u001B[38;5;124m\"\u001B[39m\u001B[38;5;124mcol\u001B[39m\u001B[38;5;124m\"\u001B[39m, \u001B[38;5;124m\"\u001B[39m\u001B[38;5;124marg_type\u001B[39m\u001B[38;5;124m\"\u001B[39m: \u001B[38;5;28mtype\u001B[39m(col)\u001B[38;5;241m.\u001B[39m\u001B[38;5;18m__name__\u001B[39m},\n",
       "\u001B[1;32m   4757\u001B[0m     )\n",
       "\u001B[0;32m-> 4758\u001B[0m \u001B[38;5;28;01mreturn\u001B[39;00m DataFrame(\u001B[38;5;28;43mself\u001B[39;49m\u001B[38;5;241;43m.\u001B[39;49m\u001B[43m_jdf\u001B[49m\u001B[38;5;241;43m.\u001B[39;49m\u001B[43mwithColumn\u001B[49m\u001B[43m(\u001B[49m\u001B[43mcolName\u001B[49m\u001B[43m,\u001B[49m\u001B[43m \u001B[49m\u001B[43mcol\u001B[49m\u001B[38;5;241;43m.\u001B[39;49m\u001B[43m_jc\u001B[49m\u001B[43m)\u001B[49m, \u001B[38;5;28mself\u001B[39m\u001B[38;5;241m.\u001B[39msparkSession)\n",
       "\n",
       "File \u001B[0;32m/databricks/spark/python/lib/py4j-0.10.9.5-src.zip/py4j/java_gateway.py:1321\u001B[0m, in \u001B[0;36mJavaMember.__call__\u001B[0;34m(self, *args)\u001B[0m\n",
       "\u001B[1;32m   1315\u001B[0m command \u001B[38;5;241m=\u001B[39m proto\u001B[38;5;241m.\u001B[39mCALL_COMMAND_NAME \u001B[38;5;241m+\u001B[39m\\\n",
       "\u001B[1;32m   1316\u001B[0m     \u001B[38;5;28mself\u001B[39m\u001B[38;5;241m.\u001B[39mcommand_header \u001B[38;5;241m+\u001B[39m\\\n",
       "\u001B[1;32m   1317\u001B[0m     args_command \u001B[38;5;241m+\u001B[39m\\\n",
       "\u001B[1;32m   1318\u001B[0m     proto\u001B[38;5;241m.\u001B[39mEND_COMMAND_PART\n",
       "\u001B[1;32m   1320\u001B[0m answer \u001B[38;5;241m=\u001B[39m \u001B[38;5;28mself\u001B[39m\u001B[38;5;241m.\u001B[39mgateway_client\u001B[38;5;241m.\u001B[39msend_command(command)\n",
       "\u001B[0;32m-> 1321\u001B[0m return_value \u001B[38;5;241m=\u001B[39m \u001B[43mget_return_value\u001B[49m\u001B[43m(\u001B[49m\n",
       "\u001B[1;32m   1322\u001B[0m \u001B[43m    \u001B[49m\u001B[43manswer\u001B[49m\u001B[43m,\u001B[49m\u001B[43m \u001B[49m\u001B[38;5;28;43mself\u001B[39;49m\u001B[38;5;241;43m.\u001B[39;49m\u001B[43mgateway_client\u001B[49m\u001B[43m,\u001B[49m\u001B[43m \u001B[49m\u001B[38;5;28;43mself\u001B[39;49m\u001B[38;5;241;43m.\u001B[39;49m\u001B[43mtarget_id\u001B[49m\u001B[43m,\u001B[49m\u001B[43m \u001B[49m\u001B[38;5;28;43mself\u001B[39;49m\u001B[38;5;241;43m.\u001B[39;49m\u001B[43mname\u001B[49m\u001B[43m)\u001B[49m\n",
       "\u001B[1;32m   1324\u001B[0m \u001B[38;5;28;01mfor\u001B[39;00m temp_arg \u001B[38;5;129;01min\u001B[39;00m temp_args:\n",
       "\u001B[1;32m   1325\u001B[0m     temp_arg\u001B[38;5;241m.\u001B[39m_detach()\n",
       "\n",
       "File \u001B[0;32m/databricks/spark/python/pyspark/errors/exceptions.py:234\u001B[0m, in \u001B[0;36mcapture_sql_exception.<locals>.deco\u001B[0;34m(*a, **kw)\u001B[0m\n",
       "\u001B[1;32m    230\u001B[0m converted \u001B[38;5;241m=\u001B[39m convert_exception(e\u001B[38;5;241m.\u001B[39mjava_exception)\n",
       "\u001B[1;32m    231\u001B[0m \u001B[38;5;28;01mif\u001B[39;00m \u001B[38;5;129;01mnot\u001B[39;00m \u001B[38;5;28misinstance\u001B[39m(converted, UnknownException):\n",
       "\u001B[1;32m    232\u001B[0m     \u001B[38;5;66;03m# Hide where the exception came from that shows a non-Pythonic\u001B[39;00m\n",
       "\u001B[1;32m    233\u001B[0m     \u001B[38;5;66;03m# JVM exception message.\u001B[39;00m\n",
       "\u001B[0;32m--> 234\u001B[0m     \u001B[38;5;28;01mraise\u001B[39;00m converted \u001B[38;5;28;01mfrom\u001B[39;00m \u001B[38;5;28mNone\u001B[39m\n",
       "\u001B[1;32m    235\u001B[0m \u001B[38;5;28;01melse\u001B[39;00m:\n",
       "\u001B[1;32m    236\u001B[0m     \u001B[38;5;28;01mraise\u001B[39;00m\n",
       "\n",
       "\u001B[0;31mAnalysisException\u001B[0m: [UNRESOLVED_COLUMN.WITH_SUGGESTION] A column or function parameter with name ` - ` cannot be resolved. Did you mean one of the following? [`Color`, `Count`, `State`].;\n",
       "'Project [State#43, Color#44, Count#45, concat(State#43, ' - , Color#44) AS StateColor#185]\n",
       "+- Relation [State#43,Color#44,Count#45] csv\n"
      ]
     },
     "metadata": {
      "application/vnd.databricks.v1+output": {
       "arguments": {},
       "data": "\u001B[0;31m---------------------------------------------------------------------------\u001B[0m\n\u001B[0;31mAnalysisException\u001B[0m                         Traceback (most recent call last)\nFile \u001B[0;32m<command-1933447525078976>:2\u001B[0m\n\u001B[1;32m      1\u001B[0m \u001B[38;5;66;03m# what if I'd like to split them with a '-'?\u001B[39;00m\n\u001B[0;32m----> 2\u001B[0m \u001B[43mdf\u001B[49m\u001B[38;5;241;43m.\u001B[39;49m\u001B[43mwithColumn\u001B[49m\u001B[43m(\u001B[49m\u001B[38;5;124;43m'\u001B[39;49m\u001B[38;5;124;43mStateColor\u001B[39;49m\u001B[38;5;124;43m'\u001B[39;49m\u001B[43m,\u001B[49m\u001B[43m \u001B[49m\u001B[43mconcat\u001B[49m\u001B[43m(\u001B[49m\u001B[43mdf\u001B[49m\u001B[38;5;241;43m.\u001B[39;49m\u001B[43mState\u001B[49m\u001B[43m,\u001B[49m\u001B[43m \u001B[49m\u001B[38;5;124;43m'\u001B[39;49m\u001B[38;5;124;43m - \u001B[39;49m\u001B[38;5;124;43m'\u001B[39;49m\u001B[43m,\u001B[49m\u001B[43m \u001B[49m\u001B[43mdf\u001B[49m\u001B[38;5;241;43m.\u001B[39;49m\u001B[43mColor\u001B[49m\u001B[43m)\u001B[49m\u001B[43m)\u001B[49m\\\n\u001B[1;32m      3\u001B[0m   \u001B[38;5;241m.\u001B[39mselect(\u001B[38;5;124m'\u001B[39m\u001B[38;5;124mStateColor\u001B[39m\u001B[38;5;124m'\u001B[39m)\u001B[38;5;241m.\u001B[39mshow(\u001B[38;5;241m3\u001B[39m)\n\nFile \u001B[0;32m/databricks/spark/python/pyspark/instrumentation_utils.py:48\u001B[0m, in \u001B[0;36m_wrap_function.<locals>.wrapper\u001B[0;34m(*args, **kwargs)\u001B[0m\n\u001B[1;32m     46\u001B[0m start \u001B[38;5;241m=\u001B[39m time\u001B[38;5;241m.\u001B[39mperf_counter()\n\u001B[1;32m     47\u001B[0m \u001B[38;5;28;01mtry\u001B[39;00m:\n\u001B[0;32m---> 48\u001B[0m     res \u001B[38;5;241m=\u001B[39m \u001B[43mfunc\u001B[49m\u001B[43m(\u001B[49m\u001B[38;5;241;43m*\u001B[39;49m\u001B[43margs\u001B[49m\u001B[43m,\u001B[49m\u001B[43m \u001B[49m\u001B[38;5;241;43m*\u001B[39;49m\u001B[38;5;241;43m*\u001B[39;49m\u001B[43mkwargs\u001B[49m\u001B[43m)\u001B[49m\n\u001B[1;32m     49\u001B[0m     logger\u001B[38;5;241m.\u001B[39mlog_success(\n\u001B[1;32m     50\u001B[0m         module_name, class_name, function_name, time\u001B[38;5;241m.\u001B[39mperf_counter() \u001B[38;5;241m-\u001B[39m start, signature\n\u001B[1;32m     51\u001B[0m     )\n\u001B[1;32m     52\u001B[0m     \u001B[38;5;28;01mreturn\u001B[39;00m res\n\nFile \u001B[0;32m/databricks/spark/python/pyspark/sql/dataframe.py:4758\u001B[0m, in \u001B[0;36mDataFrame.withColumn\u001B[0;34m(self, colName, col)\u001B[0m\n\u001B[1;32m   4753\u001B[0m \u001B[38;5;28;01mif\u001B[39;00m \u001B[38;5;129;01mnot\u001B[39;00m \u001B[38;5;28misinstance\u001B[39m(col, Column):\n\u001B[1;32m   4754\u001B[0m     \u001B[38;5;28;01mraise\u001B[39;00m PySparkTypeError(\n\u001B[1;32m   4755\u001B[0m         error_class\u001B[38;5;241m=\u001B[39m\u001B[38;5;124m\"\u001B[39m\u001B[38;5;124mNOT_A_COLUMN\u001B[39m\u001B[38;5;124m\"\u001B[39m,\n\u001B[1;32m   4756\u001B[0m         message_parameters\u001B[38;5;241m=\u001B[39m{\u001B[38;5;124m\"\u001B[39m\u001B[38;5;124marg_name\u001B[39m\u001B[38;5;124m\"\u001B[39m: \u001B[38;5;124m\"\u001B[39m\u001B[38;5;124mcol\u001B[39m\u001B[38;5;124m\"\u001B[39m, \u001B[38;5;124m\"\u001B[39m\u001B[38;5;124marg_type\u001B[39m\u001B[38;5;124m\"\u001B[39m: \u001B[38;5;28mtype\u001B[39m(col)\u001B[38;5;241m.\u001B[39m\u001B[38;5;18m__name__\u001B[39m},\n\u001B[1;32m   4757\u001B[0m     )\n\u001B[0;32m-> 4758\u001B[0m \u001B[38;5;28;01mreturn\u001B[39;00m DataFrame(\u001B[38;5;28;43mself\u001B[39;49m\u001B[38;5;241;43m.\u001B[39;49m\u001B[43m_jdf\u001B[49m\u001B[38;5;241;43m.\u001B[39;49m\u001B[43mwithColumn\u001B[49m\u001B[43m(\u001B[49m\u001B[43mcolName\u001B[49m\u001B[43m,\u001B[49m\u001B[43m \u001B[49m\u001B[43mcol\u001B[49m\u001B[38;5;241;43m.\u001B[39;49m\u001B[43m_jc\u001B[49m\u001B[43m)\u001B[49m, \u001B[38;5;28mself\u001B[39m\u001B[38;5;241m.\u001B[39msparkSession)\n\nFile \u001B[0;32m/databricks/spark/python/lib/py4j-0.10.9.5-src.zip/py4j/java_gateway.py:1321\u001B[0m, in \u001B[0;36mJavaMember.__call__\u001B[0;34m(self, *args)\u001B[0m\n\u001B[1;32m   1315\u001B[0m command \u001B[38;5;241m=\u001B[39m proto\u001B[38;5;241m.\u001B[39mCALL_COMMAND_NAME \u001B[38;5;241m+\u001B[39m\\\n\u001B[1;32m   1316\u001B[0m     \u001B[38;5;28mself\u001B[39m\u001B[38;5;241m.\u001B[39mcommand_header \u001B[38;5;241m+\u001B[39m\\\n\u001B[1;32m   1317\u001B[0m     args_command \u001B[38;5;241m+\u001B[39m\\\n\u001B[1;32m   1318\u001B[0m     proto\u001B[38;5;241m.\u001B[39mEND_COMMAND_PART\n\u001B[1;32m   1320\u001B[0m answer \u001B[38;5;241m=\u001B[39m \u001B[38;5;28mself\u001B[39m\u001B[38;5;241m.\u001B[39mgateway_client\u001B[38;5;241m.\u001B[39msend_command(command)\n\u001B[0;32m-> 1321\u001B[0m return_value \u001B[38;5;241m=\u001B[39m \u001B[43mget_return_value\u001B[49m\u001B[43m(\u001B[49m\n\u001B[1;32m   1322\u001B[0m \u001B[43m    \u001B[49m\u001B[43manswer\u001B[49m\u001B[43m,\u001B[49m\u001B[43m \u001B[49m\u001B[38;5;28;43mself\u001B[39;49m\u001B[38;5;241;43m.\u001B[39;49m\u001B[43mgateway_client\u001B[49m\u001B[43m,\u001B[49m\u001B[43m \u001B[49m\u001B[38;5;28;43mself\u001B[39;49m\u001B[38;5;241;43m.\u001B[39;49m\u001B[43mtarget_id\u001B[49m\u001B[43m,\u001B[49m\u001B[43m \u001B[49m\u001B[38;5;28;43mself\u001B[39;49m\u001B[38;5;241;43m.\u001B[39;49m\u001B[43mname\u001B[49m\u001B[43m)\u001B[49m\n\u001B[1;32m   1324\u001B[0m \u001B[38;5;28;01mfor\u001B[39;00m temp_arg \u001B[38;5;129;01min\u001B[39;00m temp_args:\n\u001B[1;32m   1325\u001B[0m     temp_arg\u001B[38;5;241m.\u001B[39m_detach()\n\nFile \u001B[0;32m/databricks/spark/python/pyspark/errors/exceptions.py:234\u001B[0m, in \u001B[0;36mcapture_sql_exception.<locals>.deco\u001B[0;34m(*a, **kw)\u001B[0m\n\u001B[1;32m    230\u001B[0m converted \u001B[38;5;241m=\u001B[39m convert_exception(e\u001B[38;5;241m.\u001B[39mjava_exception)\n\u001B[1;32m    231\u001B[0m \u001B[38;5;28;01mif\u001B[39;00m \u001B[38;5;129;01mnot\u001B[39;00m \u001B[38;5;28misinstance\u001B[39m(converted, UnknownException):\n\u001B[1;32m    232\u001B[0m     \u001B[38;5;66;03m# Hide where the exception came from that shows a non-Pythonic\u001B[39;00m\n\u001B[1;32m    233\u001B[0m     \u001B[38;5;66;03m# JVM exception message.\u001B[39;00m\n\u001B[0;32m--> 234\u001B[0m     \u001B[38;5;28;01mraise\u001B[39;00m converted \u001B[38;5;28;01mfrom\u001B[39;00m \u001B[38;5;28mNone\u001B[39m\n\u001B[1;32m    235\u001B[0m \u001B[38;5;28;01melse\u001B[39;00m:\n\u001B[1;32m    236\u001B[0m     \u001B[38;5;28;01mraise\u001B[39;00m\n\n\u001B[0;31mAnalysisException\u001B[0m: [UNRESOLVED_COLUMN.WITH_SUGGESTION] A column or function parameter with name ` - ` cannot be resolved. Did you mean one of the following? [`Color`, `Count`, `State`].;\n'Project [State#43, Color#44, Count#45, concat(State#43, ' - , Color#44) AS StateColor#185]\n+- Relation [State#43,Color#44,Count#45] csv\n",
       "errorSummary": "<span class='ansi-red-fg'>AnalysisException</span>: [UNRESOLVED_COLUMN.WITH_SUGGESTION] A column or function parameter with name ` - ` cannot be resolved. Did you mean one of the following? [`Color`, `Count`, `State`].;\n'Project [State#43, Color#44, Count#45, concat(State#43, ' - , Color#44) AS StateColor#185]\n+- Relation [State#43,Color#44,Count#45] csv\n",
       "errorTraceType": "ansi",
       "metadata": {},
       "type": "ipynbError"
      }
     },
     "output_type": "display_data"
    }
   ],
   "source": [
    "# what if I'd like to split them with a '-'?\n",
    "df.withColumn('StateColor', concat(df.State, ' - ', df.Color))\\\n",
    "  .select('StateColor').show(3)"
   ]
  },
  {
   "cell_type": "code",
   "execution_count": 0,
   "metadata": {
    "application/vnd.databricks.v1+cell": {
     "cellMetadata": {
      "byteLimit": 2048000,
      "rowLimit": 10000
     },
     "inputWidgets": {},
     "nuid": "a17e8013-84ed-4690-b309-e98d569a5e20",
     "showTitle": false,
     "title": ""
    }
   },
   "outputs": [
    {
     "output_type": "stream",
     "name": "stdout",
     "output_type": "stream",
     "text": [
      "+----------+\n|StateColor|\n+----------+\n|  TX - Red|\n| NV - Blue|\n| CO - Blue|\n+----------+\nonly showing top 3 rows\n\n"
     ]
    }
   ],
   "source": [
    "# we cannot pass a string because concat is expecting a Column input\n",
    "# we can use the lit function to add a constant or a literal to a dataframe\n",
    "from pyspark.sql.functions import lit\n",
    "df.withColumn('StateColor', concat(df.State, lit(' - '), df.Color))\\\n",
    "  .select('StateColor').show(3)"
   ]
  },
  {
   "cell_type": "code",
   "execution_count": 0,
   "metadata": {
    "application/vnd.databricks.v1+cell": {
     "cellMetadata": {
      "byteLimit": 2048000,
      "rowLimit": 10000
     },
     "inputWidgets": {},
     "nuid": "f34afe3c-ba19-4663-ace0-1d4f3166aa83",
     "showTitle": false,
     "title": ""
    }
   },
   "outputs": [
    {
     "output_type": "stream",
     "name": "stdout",
     "output_type": "stream",
     "text": [
      "+-----+------+-----+\n|State| Color|Count|\n+-----+------+-----+\n|   CA| Brown|  100|\n|   WY| Green|  100|\n|   NV|   Red|  100|\n|   TX|   Red|  100|\n|   CA|   Red|  100|\n|   UT|   Red|  100|\n|   WY|  Blue|  100|\n|   UT|Yellow|  100|\n|   AZ|Orange|  100|\n|   CO|   Red|  100|\n|   TX|Yellow|  100|\n|   CO| Green|  100|\n|   NV|   Red|  100|\n|   CA| Brown|  100|\n|   UT|Yellow|  100|\n|   CA|   Red|  100|\n|   NM| Green|  100|\n|   NV|   Red|  100|\n|   WA| Brown|  100|\n|   NM|Orange|  100|\n+-----+------+-----+\nonly showing top 20 rows\n\n"
     ]
    }
   ],
   "source": [
    "# We can sort a dataframe according to the value of a column\n",
    "df.sort(df.Count.desc()).show()"
   ]
  },
  {
   "cell_type": "markdown",
   "metadata": {
    "application/vnd.databricks.v1+cell": {
     "cellMetadata": {
      "byteLimit": 2048000,
      "rowLimit": 10000
     },
     "inputWidgets": {},
     "nuid": "c744df51-6277-4dfe-8bf2-1752b1a0af1a",
     "showTitle": false,
     "title": ""
    }
   },
   "source": [
    "## Exercise\n",
    "\n",
    "Consider the dataset `/databricks-datasets/flights/departuredelays.csv` about flights and delays.\n",
    "\n",
    "1. Import the csv in a `DataFrame`. Would you define the schema before?\n",
    "2. The column `delay` expresses the delay in minutes. Can you compute a new column `delayInHours` where the amount of `delay` is converted to hours?\n",
    "3. What is the flight with largest delay ever?\n",
    "4. [Bonus] What is the most popular route? Note that a route is the combination of an `origin` and a `destination`"
   ]
  },
  {
   "cell_type": "markdown",
   "metadata": {
    "application/vnd.databricks.v1+cell": {
     "cellMetadata": {
      "byteLimit": 2048000,
      "rowLimit": 10000
     },
     "inputWidgets": {},
     "nuid": "5423f695-d238-497d-822b-2244ef71cd97",
     "showTitle": false,
     "title": ""
    }
   },
   "source": [
    "## Rows\n",
    "\n",
    "A row in Spark is a generic [Row](https://spark.apache.org/docs/3.1.3/api/python/reference/api/pyspark.sql.Row.html) object, containing one or more columns.\n",
    "The fields in it can be accessed:\n",
    "\n",
    "- like attributes (`row.key`)\n",
    "- like dictionary values (`row[key]`)"
   ]
  },
  {
   "cell_type": "code",
   "execution_count": 0,
   "metadata": {
    "application/vnd.databricks.v1+cell": {
     "cellMetadata": {
      "byteLimit": 2048000,
      "rowLimit": 10000
     },
     "inputWidgets": {},
     "nuid": "1abcfe3f-6181-4772-a201-778a87103b3a",
     "showTitle": false,
     "title": ""
    }
   },
   "outputs": [
    {
     "output_type": "stream",
     "name": "stdout",
     "output_type": "stream",
     "text": [
      "Out[20]: <Row('Alice', 11)>"
     ]
    }
   ],
   "source": [
    "from pyspark.sql import Row\n",
    "\n",
    "Row('Alice', 11)"
   ]
  },
  {
   "cell_type": "code",
   "execution_count": 0,
   "metadata": {
    "application/vnd.databricks.v1+cell": {
     "cellMetadata": {
      "byteLimit": 2048000,
      "rowLimit": 10000
     },
     "inputWidgets": {},
     "nuid": "9349eca8-d557-453e-b295-c8eeb5c45426",
     "showTitle": false,
     "title": ""
    }
   },
   "outputs": [
    {
     "output_type": "stream",
     "name": "stdout",
     "output_type": "stream",
     "text": [
      "Out[21]: Row(name='Alice', age=11)"
     ]
    }
   ],
   "source": [
    "# Or using named arguments\n",
    "Row(name=\"Alice\", age=11)"
   ]
  },
  {
   "cell_type": "code",
   "execution_count": 0,
   "metadata": {
    "application/vnd.databricks.v1+cell": {
     "cellMetadata": {
      "byteLimit": 2048000,
      "rowLimit": 10000
     },
     "inputWidgets": {},
     "nuid": "24b749d6-19cd-4a0d-8a51-305560bdbc5c",
     "showTitle": false,
     "title": ""
    }
   },
   "outputs": [
    {
     "output_type": "stream",
     "name": "stdout",
     "output_type": "stream",
     "text": [
      "Alice\nAlice\n"
     ]
    }
   ],
   "source": [
    "alice_row = Row(name=\"Alice\", age=11)\n",
    "# we can access values via index or via key\n",
    "print(alice_row[0])\n",
    "print(alice_row['name'])"
   ]
  },
  {
   "cell_type": "code",
   "execution_count": 0,
   "metadata": {
    "application/vnd.databricks.v1+cell": {
     "cellMetadata": {
      "byteLimit": 2048000,
      "rowLimit": 10000
     },
     "inputWidgets": {},
     "nuid": "e13e8c56-b291-46da-94e0-7682847d5412",
     "showTitle": false,
     "title": ""
    }
   },
   "outputs": [
    {
     "output_type": "stream",
     "name": "stdout",
     "output_type": "stream",
     "text": [
      "+-----+---+\n| name|age|\n+-----+---+\n|Alice| 11|\n|  Bob| 15|\n+-----+---+\n\n"
     ]
    }
   ],
   "source": [
    "# you can create quickly dataframes for prototyping\n",
    "rows = [\n",
    "    alice_row,\n",
    "    Row(name='Bob', age=15)\n",
    "]\n",
    "spark.createDataFrame(rows).show()"
   ]
  },
  {
   "cell_type": "code",
   "execution_count": 0,
   "metadata": {
    "application/vnd.databricks.v1+cell": {
     "cellMetadata": {
      "byteLimit": 2048000,
      "rowLimit": 10000
     },
     "inputWidgets": {},
     "nuid": "61ab31e7-d05b-4d81-a28d-f932207b9137",
     "showTitle": false,
     "title": ""
    }
   },
   "outputs": [
    {
     "output_type": "stream",
     "name": "stdout",
     "output_type": "stream",
     "text": [
      "Out[27]: [Row(State='TX', Color='Red', Count=20),\n Row(State='NV', Color='Blue', Count=66),\n Row(State='CO', Color='Blue', Count=79),\n Row(State='OR', Color='Blue', Count=71),\n Row(State='WA', Color='Yellow', Count=93),\n Row(State='WY', Color='Blue', Count=16),\n Row(State='CA', Color='Yellow', Count=53),\n Row(State='WA', Color='Green', Count=60),\n Row(State='OR', Color='Green', Count=71),\n Row(State='TX', Color='Green', Count=68),\n Row(State='NV', Color='Green', Count=59),\n Row(State='AZ', Color='Brown', Count=95),\n Row(State='WA', Color='Yellow', Count=20),\n Row(State='AZ', Color='Blue', Count=75),\n Row(State='OR', Color='Brown', Count=72),\n Row(State='NV', Color='Red', Count=98),\n Row(State='WY', Color='Orange', Count=45),\n Row(State='CO', Color='Blue', Count=52),\n Row(State='TX', Color='Brown', Count=94),\n Row(State='CO', Color='Red', Count=82),\n Row(State='CO', Color='Red', Count=12),\n Row(State='CO', Color='Red', Count=17),\n Row(State='OR', Color='Green', Count=16),\n Row(State='AZ', Color='Green', Count=46),\n Row(State='NV', Color='Red', Count=43),\n Row(State='NM', Color='Yellow', Count=15),\n Row(State='WA', Color='Red', Count=12),\n Row(State='OR', Color='Green', Count=13),\n Row(State='CO', Color='Blue', Count=95),\n Row(State='WY', Color='Red', Count=63),\n Row(State='TX', Color='Orange', Count=63),\n Row(State='WY', Color='Yellow', Count=48),\n Row(State='OR', Color='Green', Count=95),\n Row(State='WA', Color='Red', Count=75),\n Row(State='CO', Color='Orange', Count=93),\n Row(State='NV', Color='Orange', Count=10),\n Row(State='WY', Color='Green', Count=15),\n Row(State='WA', Color='Green', Count=99),\n Row(State='CO', Color='Blue', Count=98),\n Row(State='CA', Color='Green', Count=86),\n Row(State='UT', Color='Red', Count=92),\n Row(State='AZ', Color='Brown', Count=16),\n Row(State='CA', Color='Red', Count=100),\n Row(State='UT', Color='Red', Count=77),\n Row(State='TX', Color='Yellow', Count=29),\n Row(State='WA', Color='Orange', Count=73),\n Row(State='WY', Color='Yellow', Count=56),\n Row(State='WA', Color='Yellow', Count=19),\n Row(State='WY', Color='Yellow', Count=18),\n Row(State='AZ', Color='Orange', Count=49),\n Row(State='WA', Color='Red', Count=83),\n Row(State='AZ', Color='Red', Count=59),\n Row(State='CA', Color='Blue', Count=13),\n Row(State='CO', Color='Brown', Count=53),\n Row(State='CA', Color='Red', Count=23),\n Row(State='CA', Color='Yellow', Count=49),\n Row(State='NV', Color='Blue', Count=50),\n Row(State='CO', Color='Red', Count=81),\n Row(State='UT', Color='Green', Count=62),\n Row(State='NM', Color='Green', Count=38),\n Row(State='NV', Color='Yellow', Count=77),\n Row(State='TX', Color='Blue', Count=49),\n Row(State='WA', Color='Brown', Count=20),\n Row(State='OR', Color='Green', Count=59),\n Row(State='OR', Color='Red', Count=66),\n Row(State='CA', Color='Blue', Count=34),\n Row(State='UT', Color='Blue', Count=97),\n Row(State='AZ', Color='Blue', Count=59),\n Row(State='OR', Color='Blue', Count=29),\n Row(State='CO', Color='Red', Count=17),\n Row(State='AZ', Color='Orange', Count=54),\n Row(State='TX', Color='Green', Count=69),\n Row(State='NM', Color='Brown', Count=65),\n Row(State='WY', Color='Orange', Count=23),\n Row(State='NM', Color='Green', Count=42),\n Row(State='OR', Color='Green', Count=39),\n Row(State='WA', Color='Orange', Count=84),\n Row(State='UT', Color='Yellow', Count=72),\n Row(State='NV', Color='Yellow', Count=98),\n Row(State='TX', Color='Yellow', Count=20),\n Row(State='UT', Color='Brown', Count=58),\n Row(State='CA', Color='Red', Count=67),\n Row(State='CO', Color='Orange', Count=42),\n Row(State='WA', Color='Red', Count=70),\n Row(State='OR', Color='Blue', Count=54),\n Row(State='TX', Color='Green', Count=85),\n Row(State='WY', Color='Brown', Count=85),\n Row(State='UT', Color='Green', Count=97),\n Row(State='CO', Color='Blue', Count=52),\n Row(State='WA', Color='Yellow', Count=43),\n Row(State='WA', Color='Yellow', Count=77),\n Row(State='WA', Color='Green', Count=10),\n Row(State='TX', Color='Red', Count=97),\n Row(State='WA', Color='Brown', Count=21),\n Row(State='WY', Color='Red', Count=22),\n Row(State='WY', Color='Yellow', Count=42),\n Row(State='WA', Color='Orange', Count=30),\n Row(State='NV', Color='Orange', Count=48),\n Row(State='WA', Color='Blue', Count=59),\n Row(State='CO', Color='Orange', Count=22),\n Row(State='CA', Color='Orange', Count=25),\n Row(State='CA', Color='Yellow', Count=69),\n Row(State='WY', Color='Blue', Count=59),\n Row(State='UT', Color='Brown', Count=77),\n Row(State='TX', Color='Green', Count=82),\n Row(State='CA', Color='Orange', Count=91),\n Row(State='TX', Color='Brown', Count=96),\n Row(State='WY', Color='Blue', Count=53),\n Row(State='WA', Color='Blue', Count=42),\n Row(State='TX', Color='Green', Count=74),\n Row(State='AZ', Color='Brown', Count=79),\n Row(State='OR', Color='Orange', Count=85),\n Row(State='CO', Color='Orange', Count=21),\n Row(State='AZ', Color='Yellow', Count=48),\n Row(State='WA', Color='Blue', Count=37),\n Row(State='NV', Color='Blue', Count=49),\n Row(State='CA', Color='Brown', Count=95),\n Row(State='CO', Color='Brown', Count=53),\n Row(State='TX', Color='Red', Count=16),\n Row(State='CO', Color='Brown', Count=56),\n Row(State='NV', Color='Red', Count=90),\n Row(State='WY', Color='Brown', Count=87),\n Row(State='UT', Color='Yellow', Count=56),\n Row(State='NM', Color='Yellow', Count=21),\n Row(State='CA', Color='Yellow', Count=41),\n Row(State='CA', Color='Orange', Count=71),\n Row(State='UT', Color='Yellow', Count=97),\n Row(State='CA', Color='Brown', Count=58),\n Row(State='WY', Color='Brown', Count=43),\n Row(State='NM', Color='Blue', Count=15),\n Row(State='AZ', Color='Yellow', Count=72),\n Row(State='WA', Color='Brown', Count=38),\n Row(State='CO', Color='Green', Count=44),\n Row(State='NV', Color='Brown', Count=65),\n Row(State='AZ', Color='Yellow', Count=94),\n Row(State='NV', Color='Red', Count=94),\n Row(State='CA', Color='Brown', Count=92),\n Row(State='WA', Color='Orange', Count=94),\n Row(State='AZ', Color='Orange', Count=53),\n Row(State='WY', Color='Green', Count=18),\n Row(State='NM', Color='Orange', Count=69),\n Row(State='CA', Color='Blue', Count=39),\n Row(State='NM', Color='Green', Count=32),\n Row(State='WA', Color='Green', Count=68),\n Row(State='AZ', Color='Green', Count=77),\n Row(State='UT', Color='Red', Count=46),\n Row(State='NM', Color='Green', Count=87),\n Row(State='CO', Color='Red', Count=78),\n Row(State='UT', Color='Blue', Count=48),\n Row(State='NV', Color='Brown', Count=10),\n Row(State='NM', Color='Orange', Count=77),\n Row(State='UT', Color='Green', Count=60),\n Row(State='WA', Color='Yellow', Count=49),\n Row(State='OR', Color='Orange', Count=18),\n Row(State='OR', Color='Yellow', Count=72),\n Row(State='CO', Color='Orange', Count=41),\n Row(State='AZ', Color='Blue', Count=82),\n Row(State='UT', Color='Brown', Count=78),\n Row(State='UT', Color='Orange', Count=24),\n Row(State='UT', Color='Green', Count=97),\n Row(State='WA', Color='Brown', Count=26),\n Row(State='CO', Color='Brown', Count=98),\n Row(State='CO', Color='Blue', Count=14),\n Row(State='WY', Color='Yellow', Count=78),\n Row(State='UT', Color='Orange', Count=34),\n Row(State='WA', Color='Blue', Count=18),\n Row(State='CO', Color='Blue', Count=89),\n Row(State='TX', Color='Blue', Count=80),\n Row(State='UT', Color='Yellow', Count=81),\n Row(State='NM', Color='Yellow', Count=75),\n Row(State='WY', Color='Green', Count=10),\n Row(State='CO', Color='Red', Count=79),\n Row(State='UT', Color='Brown', Count=98),\n Row(State='WA', Color='Blue', Count=84),\n Row(State='NM', Color='Blue', Count=46),\n Row(State='AZ', Color='Blue', Count=16),\n Row(State='WA', Color='Brown', Count=17),\n Row(State='TX', Color='Blue', Count=68),\n Row(State='NM', Color='Green', Count=67),\n Row(State='AZ', Color='Green', Count=89),\n Row(State='OR', Color='Brown', Count=48),\n Row(State='WY', Color='Green', Count=91),\n Row(State='WA', Color='Brown', Count=52),\n Row(State='AZ', Color='Green', Count=29),\n Row(State='WY', Color='Brown', Count=30),\n Row(State='NM', Color='Red', Count=50),\n Row(State='NV', Color='Brown', Count=49),\n Row(State='CA', Color='Blue', Count=99),\n Row(State='WY', Color='Orange', Count=81),\n Row(State='UT', Color='Green', Count=41),\n Row(State='OR', Color='Brown', Count=35),\n Row(State='TX', Color='Red', Count=13),\n Row(State='WY', Color='Blue', Count=80),\n Row(State='OR', Color='Green', Count=76),\n Row(State='CO', Color='Yellow', Count=74),\n Row(State='UT', Color='Green', Count=33),\n Row(State='TX', Color='Brown', Count=55),\n Row(State='CO', Color='Green', Count=22),\n Row(State='WY', Color='Orange', Count=99),\n Row(State='TX', Color='Orange', Count=93),\n Row(State='TX', Color='Yellow', Count=83),\n Row(State='OR', Color='Green', Count=77),\n Row(State='CO', Color='Yellow', Count=37),\n Row(State='CO', Color='Blue', Count=44),\n Row(State='CA', Color='Brown', Count=80),\n Row(State='WY', Color='Brown', Count=36),\n Row(State='WA', Color='Brown', Count=26),\n Row(State='NV', Color='Green', Count=49),\n Row(State='AZ', Color='Red', Count=93),\n Row(State='TX', Color='Yellow', Count=19),\n Row(State='CO', Color='Yellow', Count=63),\n Row(State='TX', Color='Yellow', Count=81),\n Row(State='TX', Color='Red', Count=100),\n Row(State='CA', Color='Red', Count=45),\n Row(State='UT', Color='Brown', Count=59),\n Row(State='NM', Color='Brown', Count=66),\n Row(State='TX', Color='Red', Count=95),\n Row(State='OR', Color='Yellow', Count=28),\n Row(State='AZ', Color='Yellow', Count=83),\n Row(State='CO', Color='Red', Count=52),\n Row(State='NV', Color='Red', Count=23),\n Row(State='WA', Color='Green', Count=27),\n Row(State='WY', Color='Yellow', Count=90),\n Row(State='NM', Color='Yellow', Count=29),\n Row(State='CA', Color='Green', Count=73),\n Row(State='NV', Color='Brown', Count=34),\n Row(State='CA', Color='Orange', Count=32),\n Row(State='TX', Color='Red', Count=44),\n Row(State='WA', Color='Brown', Count=76),\n Row(State='CO', Color='Blue', Count=90),\n Row(State='CO', Color='Red', Count=82),\n Row(State='NV', Color='Orange', Count=58),\n Row(State='NM', Color='Red', Count=40),\n Row(State='TX', Color='Blue', Count=19),\n Row(State='NV', Color='Orange', Count=84),\n Row(State='NM', Color='Green', Count=61),\n Row(State='UT', Color='Brown', Count=92),\n Row(State='AZ', Color='Orange', Count=50),\n Row(State='AZ', Color='Yellow', Count=49),\n Row(State='CA', Color='Blue', Count=65),\n Row(State='NM', Color='Red', Count=50),\n Row(State='WA', Color='Yellow', Count=57),\n Row(State='TX', Color='Yellow', Count=64),\n Row(State='CO', Color='Red', Count=94),\n Row(State='AZ', Color='Yellow', Count=80),\n Row(State='TX', Color='Blue', Count=98),\n Row(State='OR', Color='Brown', Count=48),\n Row(State='NM', Color='Blue', Count=98),\n Row(State='AZ', Color='Yellow', Count=80),\n Row(State='OR', Color='Orange', Count=91),\n Row(State='CA', Color='Brown', Count=64),\n Row(State='OR', Color='Green', Count=39),\n Row(State='NV', Color='Yellow', Count=76),\n Row(State='NM', Color='Red', Count=53),\n Row(State='UT', Color='Yellow', Count=35),\n Row(State='AZ', Color='Blue', Count=24),\n Row(State='WY', Color='Red', Count=87),\n Row(State='WY', Color='Green', Count=57),\n Row(State='NM', Color='Red', Count=47),\n Row(State='CO', Color='Brown', Count=57),\n Row(State='WY', Color='Green', Count=97),\n Row(State='WA', Color='Yellow', Count=31),\n Row(State='WY', Color='Brown', Count=81),\n Row(State='CA', Color='Red', Count=27),\n Row(State='WA', Color='Yellow', Count=58),\n Row(State='NM', Color='Orange', Count=70),\n Row(State='WY', Color='Green', Count=39),\n Row(State='WA', Color='Red', Count=38),\n Row(State='NM', Color='Brown', Count=99),\n Row(State='CA', Color='Brown', Count=94),\n Row(State='CO', Color='Yellow', Count=14),\n Row(State='CO', Color='Green', Count=25),\n Row(State='NV', Color='Red', Count=52),\n Row(State='WY', Color='Brown', Count=48),\n Row(State='NV', Color='Orange', Count=65),\n Row(State='AZ', Color='Yellow', Count=41),\n Row(State='WY', Color='Green', Count=68),\n Row(State='UT', Color='Green', Count=23),\n Row(State='WA', Color='Green', Count=58),\n Row(State='NM', Color='Orange', Count=41),\n Row(State='WY', Color='Orange', Count=56),\n Row(State='WY', Color='Red', Count=70),\n Row(State='CO', Color='Green', Count=58),\n Row(State='UT', Color='Orange', Count=36),\n Row(State='CA', Color='Red', Count=50),\n Row(State='WA', Color='Red', Count=10),\n Row(State='CA', Color='Yellow', Count=42),\n Row(State='AZ', Color='Green', Count=99),\n Row(State='NM', Color='Brown', Count=36),\n Row(State='UT', Color='Green', Count=77),\n Row(State='TX', Color='Green', Count=91),\n Row(State='WA', Color='Orange', Count=91),\n Row(State='OR', Color='Brown', Count=16),\n Row(State='CA', Color='Orange', Count=87),\n Row(State='TX', Color='Yellow', Count=70),\n Row(State='WA', Color='Green', Count=29),\n Row(State='NM', Color='Blue', Count=70),\n Row(State='TX', Color='Red', Count=55),\n Row(State='WY', Color='Green', Count=86),\n Row(State='OR', Color='Blue', Count=96),\n Row(State='OR', Color='Blue', Count=37),\n Row(State='WY', Color='Blue', Count=33),\n Row(State='NM', Color='Green', Count=83),\n Row(State='UT', Color='Orange', Count=87),\n Row(State='WY', Color='Yellow', Count=62),\n Row(State='WY', Color='Red', Count=23),\n Row(State='TX', Color='Brown', Count=59),\n Row(State='CO', Color='Green', Count=40),\n Row(State='CA', Color='Brown', Count=41),\n Row(State='AZ', Color='Brown', Count=90),\n Row(State='WA', Color='Yellow', Count=92),\n Row(State='OR', Color='Green', Count=76),\n Row(State='WA', Color='Blue', Count=46),\n Row(State='CA', Color='Red', Count=52),\n Row(State='NM', Color='Blue', Count=52),\n Row(State='WY', Color='Orange', Count=63),\n Row(State='OR', Color='Green', Count=14),\n Row(State='AZ', Color='Yellow', Count=23),\n Row(State='CA', Color='Brown', Count=84),\n Row(State='NM', Color='Orange', Count=46),\n Row(State='WY', Color='Green', Count=100),\n Row(State='CA', Color='Red', Count=49),\n Row(State='UT', Color='Brown', Count=67),\n Row(State='UT', Color='Brown', Count=52),\n Row(State='AZ', Color='Brown', Count=41),\n Row(State='OR', Color='Blue', Count=20),\n Row(State='CA', Color='Yellow', Count=94),\n Row(State='CO', Color='Blue', Count=27),\n Row(State='CA', Color='Yellow', Count=89),\n Row(State='NM', Color='Blue', Count=82),\n Row(State='UT', Color='Yellow', Count=26),\n Row(State='AZ', Color='Green', Count=35),\n Row(State='UT', Color='Green', Count=72),\n Row(State='CA', Color='Yellow', Count=66),\n Row(State='WY', Color='Yellow', Count=58),\n Row(State='NV', Color='Yellow', Count=96),\n Row(State='WY', Color='Green', Count=36),\n Row(State='WA', Color='Brown', Count=35),\n Row(State='CA', Color='Green', Count=39),\n Row(State='CA', Color='Red', Count=71),\n Row(State='OR', Color='Brown', Count=93),\n Row(State='OR', Color='Blue', Count=74),\n Row(State='UT', Color='Green', Count=42),\n Row(State='NM', Color='Yellow', Count=34),\n Row(State='NM', Color='Red', Count=22),\n Row(State='WY', Color='Green', Count=48),\n Row(State='WY', Color='Yellow', Count=59),\n Row(State='CA', Color='Blue', Count=43),\n Row(State='UT', Color='Blue', Count=21),\n Row(State='WA', Color='Brown', Count=96),\n Row(State='WA', Color='Blue', Count=62),\n Row(State='CO', Color='Red', Count=22),\n Row(State='NM', Color='Blue', Count=70),\n Row(State='TX', Color='Green', Count=83),\n Row(State='OR', Color='Brown', Count=65),\n Row(State='NM', Color='Red', Count=34),\n Row(State='TX', Color='Brown', Count=12),\n Row(State='UT', Color='Green', Count=86),\n Row(State='UT', Color='Yellow', Count=28),\n Row(State='OR', Color='Red', Count=53),\n Row(State='TX', Color='Brown', Count=37),\n Row(State='WA', Color='Blue', Count=37),\n Row(State='UT', Color='Red', Count=35),\n Row(State='CO', Color='Orange', Count=72),\n Row(State='AZ', Color='Blue', Count=19),\n Row(State='UT', Color='Blue', Count=94),\n Row(State='OR', Color='Brown', Count=61),\n Row(State='UT', Color='Orange', Count=77),\n Row(State='TX', Color='Red', Count=45),\n Row(State='NV', Color='Brown', Count=72),\n Row(State='NM', Color='Blue', Count=81),\n Row(State='AZ', Color='Yellow', Count=39),\n Row(State='OR', Color='Yellow', Count=28),\n Row(State='WA', Color='Green', Count=40),\n Row(State='UT', Color='Orange', Count=60),\n Row(State='TX', Color='Blue', Count=41),\n Row(State='TX', Color='Green', Count=93),\n Row(State='CA', Color='Orange', Count=72),\n Row(State='CO', Color='Orange', Count=99),\n Row(State='NV', Color='Blue', Count=89),\n Row(State='TX', Color='Blue', Count=76),\n Row(State='AZ', Color='Green', Count=79),\n Row(State='TX', Color='Blue', Count=59),\n Row(State='NM', Color='Green', Count=20),\n Row(State='CA', Color='Yellow', Count=32),\n Row(State='OR', Color='Blue', Count=95),\n Row(State='NM', Color='Orange', Count=96),\n Row(State='NM', Color='Red', Count=57),\n Row(State='UT', Color='Blue', Count=65),\n Row(State='WY', Color='Blue', Count=35),\n Row(State='WY', Color='Blue', Count=24),\n Row(State='UT', Color='Orange', Count=58),\n Row(State='TX', Color='Orange', Count=77),\n Row(State='WA', Color='Blue', Count=14),\n Row(State='CO', Color='Blue', Count=27),\n Row(State='CA', Color='Blue', Count=23),\n Row(State='WY', Color='Brown', Count=20),\n Row(State='CO', Color='Blue', Count=17),\n Row(State='WA', Color='Yellow', Count=14),\n Row(State='CA', Color='Green', Count=61),\n Row(State='CO', Color='Brown', Count=90),\n Row(State='AZ', Color='Yellow', Count=76),\n Row(State='WY', Color='Red', Count=85),\n Row(State='CO', Color='Blue', Count=22),\n Row(State='UT', Color='Brown', Count=50),\n Row(State='WY', Color='Orange', Count=75),\n Row(State='OR', Color='Yellow', Count=25),\n Row(State='OR', Color='Green', Count=76),\n Row(State='CA', Color='Blue', Count=99),\n Row(State='CO', Color='Green', Count=27),\n Row(State='NV', Color='Orange', Count=45),\n Row(State='OR', Color='Red', Count=80),\n Row(State='UT', Color='Yellow', Count=92),\n Row(State='WA', Color='Brown', Count=16),\n Row(State='AZ', Color='Brown', Count=39),\n Row(State='NM', Color='Blue', Count=13),\n Row(State='CO', Color='Yellow', Count=17),\n Row(State='UT', Color='Orange', Count=55),\n Row(State='OR', Color='Red', Count=49),\n Row(State='AZ', Color='Green', Count=36),\n Row(State='AZ', Color='Yellow', Count=37),\n Row(State='CA', Color='Red', Count=34),\n Row(State='WY', Color='Blue', Count=57),\n Row(State='TX', Color='Blue', Count=60),\n Row(State='UT', Color='Yellow', Count=99),\n Row(State='WY', Color='Green', Count=23),\n Row(State='CA', Color='Green', Count=53),\n Row(State='AZ', Color='Brown', Count=43),\n Row(State='TX', Color='Orange', Count=18),\n Row(State='CO', Color='Green', Count=54),\n Row(State='NV', Color='Red', Count=92),\n Row(State='TX', Color='Blue', Count=91),\n Row(State='AZ', Color='Orange', Count=77),\n Row(State='WA', Color='Brown', Count=58),\n Row(State='TX', Color='Orange', Count=73),\n Row(State='WY', Color='Blue', Count=62),\n Row(State='CA', Color='Blue', Count=89),\n Row(State='AZ', Color='Green', Count=92),\n Row(State='WY', Color='Brown', Count=67),\n Row(State='AZ', Color='Yellow', Count=14),\n Row(State='UT', Color='Brown', Count=56),\n Row(State='TX', Color='Orange', Count=28),\n Row(State='UT', Color='Brown', Count=19),\n Row(State='WA', Color='Blue', Count=42),\n Row(State='NM', Color='Yellow', Count=30),\n Row(State='WY', Color='Orange', Count=81),\n Row(State='CO', Color='Brown', Count=72),\n Row(State='NM', Color='Blue', Count=21),\n Row(State='CA', Color='Blue', Count=65),\n Row(State='AZ', Color='Blue', Count=38),\n Row(State='AZ', Color='Orange', Count=39),\n Row(State='AZ', Color='Brown', Count=42),\n Row(State='NV', Color='Orange', Count=21),\n Row(State='CO', Color='Brown', Count=26),\n Row(State='WY', Color='Orange', Count=15),\n Row(State='CO', Color='Red', Count=67),\n Row(State='UT', Color='Yellow', Count=34),\n Row(State='AZ', Color='Yellow', Count=71),\n Row(State='NV', Color='Blue', Count=12),\n Row(State='AZ', Color='Green', Count=25),\n Row(State='NM', Color='Red', Count=65),\n Row(State='OR', Color='Orange', Count=20),\n Row(State='NM', Color='Red', Count=14),\n Row(State='CO', Color='Orange', Count=79),\n Row(State='TX', Color='Orange', Count=99),\n Row(State='AZ', Color='Green', Count=58),\n Row(State='WA', Color='Brown', Count=12),\n Row(State='UT', Color='Brown', Count=60),\n Row(State='CO', Color='Red', Count=93),\n Row(State='UT', Color='Brown', Count=72),\n Row(State='AZ', Color='Orange', Count=88),\n Row(State='CA', Color='Yellow', Count=34),\n Row(State='WY', Color='Yellow', Count=32),\n Row(State='NM', Color='Green', Count=99),\n Row(State='OR', Color='Blue', Count=89),\n Row(State='TX', Color='Yellow', Count=60),\n Row(State='TX', Color='Green', Count=45),\n Row(State='OR', Color='Yellow', Count=40),\n Row(State='WA', Color='Red', Count=66),\n Row(State='CO', Color='Yellow', Count=43),\n Row(State='WA', Color='Blue', Count=47),\n Row(State='WA', Color='Green', Count=83),\n Row(State='WA', Color='Orange', Count=37),\n Row(State='WY', Color='Yellow', Count=36),\n Row(State='UT', Color='Blue', Count=19),\n Row(State='NM', Color='Orange', Count=11),\n Row(State='TX', Color='Yellow', Count=15),\n Row(State='WA', Color='Orange', Count=41),\n Row(State='CO', Color='Red', Count=90),\n Row(State='TX', Color='Yellow', Count=52),\n Row(State='NV', Color='Red', Count=72),\n Row(State='NM', Color='Yellow', Count=52),\n Row(State='WA', Color='Green', Count=37),\n Row(State='OR', Color='Yellow', Count=82),\n Row(State='CO', Color='Green', Count=31),\n Row(State='NV', Color='Yellow', Count=99),\n Row(State='WA', Color='Brown', Count=91),\n Row(State='AZ', Color='Orange', Count=50),\n Row(State='CA', Color='Blue', Count=42),\n Row(State='TX', Color='Yellow', Count=15),\n Row(State='WY', Color='Blue', Count=65),\n Row(State='NM', Color='Green', Count=64),\n Row(State='CO', Color='Orange', Count=29),\n Row(State='WA', Color='Orange', Count=61),\n Row(State='UT', Color='Red', Count=83),\n Row(State='CO', Color='Blue', Count=73),\n Row(State='WA', Color='Blue', Count=42),\n Row(State='WA', Color='Brown', Count=59),\n Row(State='OR', Color='Brown', Count=79),\n Row(State='CO', Color='Green', Count=26),\n Row(State='OR', Color='Red', Count=92),\n Row(State='WY', Color='Green', Count=23),\n Row(State='NV', Color='Red', Count=39),\n Row(State='CA', Color='Orange', Count=70),\n Row(State='UT', Color='Orange', Count=14),\n Row(State='CA', Color='Orange', Count=10),\n Row(State='NM', Color='Green', Count=82),\n Row(State='WA', Color='Blue', Count=15),\n Row(State='TX', Color='Red', Count=91),\n Row(State='UT', Color='Red', Count=88),\n Row(State='WY', Color='Red', Count=10),\n Row(State='WA', Color='Yellow', Count=74),\n Row(State='WA', Color='Green', Count=96),\n Row(State='CO', Color='Blue', Count=47),\n Row(State='NV', Color='Blue', Count=13),\n Row(State='UT', Color='Blue', Count=52),\n Row(State='CO', Color='Orange', Count=65),\n Row(State='OR', Color='Orange', Count=33),\n Row(State='CO', Color='Yellow', Count=77),\n Row(State='CO', Color='Orange', Count=19),\n Row(State='OR', Color='Brown', Count=89),\n Row(State='CA', Color='Red', Count=83),\n Row(State='NM', Color='Brown', Count=75),\n Row(State='NV', Color='Orange', Count=38),\n Row(State='WY', Color='Green', Count=95),\n Row(State='AZ', Color='Green', Count=54),\n Row(State='NM', Color='Orange', Count=22),\n Row(State='TX', Color='Orange', Count=82),\n Row(State='CO', Color='Yellow', Count=72),\n Row(State='TX', Color='Yellow', Count=67),\n Row(State='UT', Color='Blue', Count=19),\n Row(State='OR', Color='Red', Count=55),\n Row(State='AZ', Color='Brown', Count=69),\n Row(State='TX', Color='Blue', Count=26),\n Row(State='CA', Color='Brown', Count=34),\n Row(State='CA', Color='Orange', Count=48),\n Row(State='AZ', Color='Orange', Count=64),\n Row(State='WY', Color='Green', Count=62),\n Row(State='NV', Color='Brown', Count=41),\n Row(State='WA', Color='Green', Count=31),\n Row(State='CA', Color='Red', Count=57),\n Row(State='WA', Color='Brown', Count=53),\n Row(State='CA', Color='Orange', Count=71),\n Row(State='NV', Color='Brown', Count=69),\n Row(State='TX', Color='Orange', Count=25),\n Row(State='NV', Color='Red', Count=59),\n Row(State='TX', Color='Orange', Count=86),\n Row(State='WA', Color='Yellow', Count=70),\n Row(State='UT', Color='Green', Count=16),\n Row(State='UT', Color='Blue', Count=87),\n Row(State='UT', Color='Brown', Count=23),\n Row(State='TX', Color='Green', Count=98),\n Row(State='CA', Color='Green', Count=28),\n Row(State='TX', Color='Blue', Count=86),\n Row(State='WY', Color='Green', Count=68),\n Row(State='NV', Color='Brown', Count=35),\n Row(State='CO', Color='Blue', Count=13),\n Row(State='CO', Color='Orange', Count=89),\n Row(State='CA', Color='Orange', Count=66),\n Row(State='WA', Color='Yellow', Count=84),\n Row(State='OR', Color='Green', Count=64),\n Row(State='OR', Color='Red', Count=45),\n Row(State='UT', Color='Green', Count=65),\n Row(State='WY', Color='Orange', Count=21),\n Row(State='TX', Color='Brown', Count=18),\n Row(State='UT', Color='Orange', Count=59),\n Row(State='UT', Color='Green', Count=49),\n Row(State='NV', Color='Orange', Count=98),\n Row(State='CA', Color='Green', Count=48),\n Row(State='CA', Color='Yellow', Count=25),\n Row(State='CO', Color='Red', Count=44),\n Row(State='UT', Color='Yellow', Count=85),\n Row(State='NM', Color='Brown', Count=30),\n Row(State='NM', Color='Brown', Count=89),\n Row(State='OR', Color='Brown', Count=40),\n Row(State='NM', Color='Yellow', Count=58),\n Row(State='TX', Color='Yellow', Count=31),\n Row(State='OR', Color='Orange', Count=33),\n Row(State='NM', Color='Green', Count=24),\n Row(State='NM', Color='Orange', Count=70),\n Row(State='AZ', Color='Brown', Count=93),\n Row(State='CA', Color='Orange', Count=96),\n Row(State='NV', Color='Brown', Count=36),\n Row(State='WY', Color='Yellow', Count=49),\n Row(State='WA', Color='Yellow', Count=34),\n Row(State='TX', Color='Red', Count=64),\n Row(State='TX', Color='Blue', Count=99),\n Row(State='CO', Color='Green', Count=34),\n Row(State='CO', Color='Blue', Count=12),\n Row(State='NM', Color='Yellow', Count=10),\n Row(State='NM', Color='Orange', Count=76),\n Row(State='NM', Color='Red', Count=57),\n Row(State='CA', Color='Red', Count=61),\n Row(State='CO', Color='Yellow', Count=82),\n Row(State='UT', Color='Blue', Count=99),\n Row(State='WY', Color='Red', Count=80),\n Row(State='WA', Color='Orange', Count=51),\n Row(State='TX', Color='Orange', Count=86),\n Row(State='CO', Color='Green', Count=20),\n Row(State='WA', Color='Brown', Count=10),\n Row(State='WA', Color='Yellow', Count=40),\n Row(State='AZ', Color='Orange', Count=22),\n Row(State='NM', Color='Green', Count=61),\n Row(State='CA', Color='Blue', Count=27),\n Row(State='NM', Color='Blue', Count=23),\n Row(State='UT', Color='Green', Count=35),\n Row(State='UT', Color='Orange', Count=59),\n Row(State='TX', Color='Yellow', Count=32),\n Row(State='WA', Color='Yellow', Count=78),\n Row(State='AZ', Color='Brown', Count=35),\n Row(State='WA', Color='Blue', Count=22),\n Row(State='OR', Color='Orange', Count=63),\n Row(State='WA', Color='Orange', Count=92),\n Row(State='WY', Color='Green', Count=78),\n Row(State='CA', Color='Orange', Count=35),\n Row(State='AZ', Color='Red', Count=92),\n Row(State='CA', Color='Red', Count=14),\n Row(State='WA', Color='Red', Count=52),\n Row(State='UT', Color='Blue', Count=22),\n Row(State='CA', Color='Yellow', Count=57),\n Row(State='AZ', Color='Yellow', Count=30),\n Row(State='CA', Color='Green', Count=77),\n Row(State='WY', Color='Yellow', Count=67),\n Row(State='NV', Color='Yellow', Count=95),\n Row(State='AZ', Color='Brown', Count=26),\n Row(State='AZ', Color='Red', Count=58),\n Row(State='WY', Color='Brown', Count=14),\n Row(State='TX', Color='Orange', Count=52),\n Row(State='CO', Color='Orange', Count=95),\n Row(State='NV', Color='Green', Count=91),\n Row(State='OR', Color='Brown', Count=86),\n Row(State='WY', Color='Red', Count=19),\n Row(State='TX', Color='Brown', Count=78),\n Row(State='WY', Color='Orange', Count=87),\n Row(State='CA', Color='Red', Count=91),\n Row(State='NV', Color='Brown', Count=50),\n Row(State='CO', Color='Brown', Count=28),\n Row(State='AZ', Color='Orange', Count=50),\n Row(State='UT', Color='Brown', Count=41),\n Row(State='CO', Color='Yellow', Count=66),\n Row(State='UT', Color='Brown', Count=76),\n Row(State='OR', Color='Red', Count=30),\n Row(State='NM', Color='Brown', Count=30),\n Row(State='UT', Color='Orange', Count=21),\n Row(State='WY', Color='Blue', Count=48),\n Row(State='AZ', Color='Green', Count=49),\n Row(State='TX', Color='Brown', Count=32),\n Row(State='NV', Color='Blue', Count=71),\n Row(State='NV', Color='Yellow', Count=83),\n Row(State='OR', Color='Yellow', Count=85),\n Row(State='AZ', Color='Green', Count=35),\n Row(State='WY', Color='Red', Count=81),\n Row(State='WY', Color='Orange', Count=76),\n Row(State='UT', Color='Green', Count=42),\n Row(State='WA', Color='Red', Count=17),\n Row(State='AZ', Color='Brown', Count=81),\n Row(State='TX', Color='Blue', Count=90),\n Row(State='AZ', Color='Red', Count=57),\n Row(State='WA', Color='Green', Count=32),\n Row(State='NM', Color='Yellow', Count=66),\n Row(State='UT', Color='Orange', Count=43),\n Row(State='TX', Color='Yellow', Count=14),\n Row(State='WA', Color='Orange', Count=61),\n Row(State='NV', Color='Yellow', Count=62),\n Row(State='WA', Color='Green', Count=16),\n Row(State='OR', Color='Yellow', Count=33),\n Row(State='TX', Color='Orange', Count=66),\n Row(State='UT', Color='Orange', Count=40),\n Row(State='UT', Color='Red', Count=100),\n Row(State='TX', Color='Orange', Count=28),\n Row(State='NV', Color='Orange', Count=26),\n Row(State='WA', Color='Red', Count=33),\n Row(State='AZ', Color='Blue', Count=85),\n Row(State='NV', Color='Red', Count=100),\n Row(State='NV', Color='Brown', Count=64),\n Row(State='WA', Color='Yellow', Count=71),\n Row(State='NV', Color='Green', Count=94),\n Row(State='WA', Color='Brown', Count=46),\n Row(State='UT', Color='Yellow', Count=27),\n Row(State='OR', Color='Green', Count=90),\n Row(State='WA', Color='Yellow', Count=41),\n Row(State='CA', Color='Green', Count=38),\n Row(State='WA', Color='Orange', Count=93),\n Row(State='OR', Color='Yellow', Count=82),\n Row(State='WY', Color='Red', Count=16),\n Row(State='WA', Color='Brown', Count=32),\n Row(State='WY', Color='Blue', Count=38),\n Row(State='TX', Color='Yellow', Count=96),\n Row(State='WY', Color='Blue', Count=58),\n Row(State='WA', Color='Green', Count=37),\n Row(State='WA', Color='Yellow', Count=35),\n Row(State='NV', Color='Yellow', Count=66),\n Row(State='OR', Color='Blue', Count=31),\n Row(State='AZ', Color='Green', Count=15),\n Row(State='NV', Color='Blue', Count=34),\n Row(State='WY', Color='Green', Count=24),\n Row(State='NM', Color='Brown', Count=16),\n Row(State='NV', Color='Orange', Count=50),\n Row(State='WY', Color='Blue', Count=28),\n Row(State='NM', Color='Blue', Count=29),\n Row(State='TX', Color='Yellow', Count=37),\n Row(State='CO', Color='Brown', Count=30),\n Row(State='OR', Color='Orange', Count=91),\n Row(State='TX', Color='Yellow', Count=35),\n Row(State='NM', Color='Orange', Count=20),\n Row(State='CA', Color='Blue', Count=19),\n Row(State='CO', Color='Red', Count=64),\n Row(State='CA', Color='Brown', Count=72),\n Row(State='TX', Color='Brown', Count=67),\n Row(State='WA', Color='Green', Count=64),\n Row(State='WY', Color='Blue', Count=24),\n Row(State='OR', Color='Brown', Count=84),\n Row(State='WA', Color='Brown', Count=78),\n Row(State='AZ', Color='Green', Count=61),\n Row(State='TX', Color='Yellow', Count=51),\n Row(State='WY', Color='Yellow', Count=23),\n Row(State='CO', Color='Red', Count=87),\n Row(State='OR', Color='Blue', Count=78),\n Row(State='UT', Color='Brown', Count=99),\n Row(State='CO', Color='Red', Count=24),\n Row(State='NM', Color='Red', Count=43),\n Row(State='NM', Color='Green', Count=66),\n Row(State='UT', Color='Yellow', Count=82),\n Row(State='WA', Color='Red', Count=28),\n Row(State='WY', Color='Brown', Count=28),\n Row(State='AZ', Color='Red', Count=65),\n Row(State='NV', Color='Yellow', Count=58),\n Row(State='UT', Color='Brown', Count=84),\n Row(State='CO', Color='Yellow', Count=11),\n Row(State='NM', Color='Yellow', Count=29),\n Row(State='OR', Color='Blue', Count=17),\n Row(State='WA', Color='Yellow', Count=56),\n Row(State='CO', Color='Yellow', Count=43),\n Row(State='CO', Color='Orange', Count=43),\n Row(State='UT', Color='Orange', Count=32),\n Row(State='OR', Color='Brown', Count=86),\n Row(State='OR', Color='Green', Count=94),\n Row(State='TX', Color='Green', Count=94),\n Row(State='NV', Color='Orange', Count=54),\n Row(State='AZ', Color='Red', Count=99),\n Row(State='TX', Color='Red', Count=54),\n Row(State='CA', Color='Green', Count=57),\n Row(State='UT', Color='Brown', Count=88),\n Row(State='AZ', Color='Red', Count=59),\n Row(State='UT', Color='Red', Count=93),\n Row(State='CA', Color='Green', Count=61),\n Row(State='NV', Color='Yellow', Count=60),\n Row(State='OR', Color='Red', Count=98),\n Row(State='WY', Color='Red', Count=37),\n Row(State='WA', Color='Blue', Count=42),\n Row(State='WY', Color='Yellow', Count=89),\n Row(State='CA', Color='Green', Count=98),\n Row(State='TX', Color='Orange', Count=36),\n Row(State='UT', Color='Brown', Count=68),\n Row(State='WA', Color='Red', Count=93),\n Row(State='NV', Color='Orange', Count=84),\n Row(State='NV', Color='Green', Count=93),\n Row(State='OR', Color='Yellow', Count=52),\n Row(State='OR', Color='Red', Count=87),\n Row(State='UT', Color='Green', Count=50),\n Row(State='NM', Color='Red', Count=64),\n Row(State='TX', Color='Blue', Count=59),\n Row(State='AZ', Color='Brown', Count=81),\n Row(State='WA', Color='Brown', Count=96),\n Row(State='CO', Color='Orange', Count=80),\n Row(State='NM', Color='Brown', Count=25),\n Row(State='NV', Color='Blue', Count=57),\n Row(State='CA', Color='Blue', Count=88),\n Row(State='AZ', Color='Blue', Count=69),\n Row(State='UT', Color='Yellow', Count=54),\n Row(State='UT', Color='Red', Count=80),\n Row(State='CA', Color='Yellow', Count=92),\n Row(State='NM', Color='Blue', Count=36),\n Row(State='WA', Color='Green', Count=54),\n Row(State='WA', Color='Blue', Count=67),\n Row(State='AZ', Color='Brown', Count=39),\n Row(State='NV', Color='Green', Count=32),\n Row(State='NV', Color='Green', Count=27),\n Row(State='UT', Color='Yellow', Count=93),\n Row(State='CA', Color='Orange', Count=18),\n Row(State='WA', Color='Yellow', Count=37),\n Row(State='TX', Color='Blue', Count=11),\n Row(State='CA', Color='Yellow', Count=69),\n Row(State='CO', Color='Orange', Count=43),\n Row(State='OR', Color='Brown', Count=88),\n Row(State='NM', Color='Brown', Count=24),\n Row(State='CA', Color='Red', Count=39),\n Row(State='CO', Color='Yellow', Count=16),\n Row(State='WY', Color='Orange', Count=49),\n Row(State='OR', Color='Red', Count=73),\n Row(State='UT', Color='Blue', Count=38),\n Row(State='TX', Color='Green', Count=87),\n Row(State='AZ', Color='Orange', Count=89),\n Row(State='NM', Color='Green', Count=88),\n Row(State='WY', Color='Brown', Count=25),\n Row(State='WY', Color='Red', Count=24),\n Row(State='NV', Color='Yellow', Count=61),\n Row(State='WY', Color='Blue', Count=43),\n Row(State='UT', Color='Orange', Count=22),\n Row(State='WA', Color='Brown', Count=97),\n Row(State='UT', Color='Red', Count=57),\n Row(State='WY', Color='Red', Count=95),\n Row(State='AZ', Color='Blue', Count=63),\n Row(State='WY', Color='Red', Count=17),\n Row(State='CO', Color='Brown', Count=99),\n Row(State='OR', Color='Orange', Count=43),\n Row(State='CO', Color='Blue', Count=51),\n Row(State='TX', Color='Blue', Count=41),\n Row(State='NM', Color='Red', Count=15),\n Row(State='WA', Color='Blue', Count=16),\n Row(State='CO', Color='Green', Count=46),\n Row(State='WA', Color='Red', Count=13),\n Row(State='CA', Color='Blue', Count=81),\n Row(State='NM', Color='Green', Count=84),\n Row(State='AZ', Color='Blue', Count=88),\n Row(State='UT', Color='Yellow', Count=100),\n Row(State='UT', Color='Yellow', Count=57),\n Row(State='WY', Color='Brown', Count=34),\n Row(State='AZ', Color='Brown', Count=25),\n Row(State='WA', Color='Orange', Count=59),\n Row(State='OR', Color='Orange', Count=74),\n Row(State='CO', Color='Orange', Count=24),\n Row(State='CO', Color='Yellow', Count=69),\n Row(State='CO', Color='Blue', Count=43),\n Row(State='TX', Color='Green', Count=36),\n Row(State='NV', Color='Blue', Count=62),\n Row(State='NV', Color='Brown', Count=29),\n Row(State='AZ', Color='Yellow', Count=98),\n Row(State='WA', Color='Brown', Count=10),\n Row(State='WY', Color='Red', Count=36),\n Row(State='NV', Color='Green', Count=36),\n Row(State='CA', Color='Red', Count=12),\n Row(State='CO', Color='Blue', Count=44),\n Row(State='UT', Color='Orange', Count=89),\n Row(State='NV', Color='Red', Count=24),\n Row(State='WA', Color='Yellow', Count=95),\n Row(State='NM', Color='Brown', Count=86),\n Row(State='OR', Color='Brown', Count=29),\n Row(State='TX', Color='Orange', Count=41),\n Row(State='WA', Color='Orange', Count=14),\n Row(State='CO', Color='Brown', Count=87),\n Row(State='CO', Color='Orange', Count=96),\n Row(State='WA', Color='Yellow', Count=91),\n Row(State='AZ', Color='Green', Count=24),\n Row(State='UT', Color='Green', Count=13),\n Row(State='NM', Color='Green', Count=13),\n Row(State='NM', Color='Brown', Count=58),\n Row(State='OR', Color='Orange', Count=18),\n Row(State='WA', Color='Yellow', Count=83),\n Row(State='UT', Color='Brown', Count=82),\n Row(State='WA', Color='Brown', Count=59),\n Row(State='WY', Color='Blue', Count=58),\n Row(State='TX', Color='Yellow', Count=98),\n Row(State='WY', Color='Orange', Count=56),\n Row(State='TX', Color='Yellow', Count=79),\n Row(State='CO', Color='Blue', Count=99),\n Row(State='CO', Color='Brown', Count=62),\n Row(State='WA', Color='Orange', Count=92),\n Row(State='CA', Color='Brown', Count=16),\n Row(State='UT', Color='Blue', Count=34),\n Row(State='NM', Color='Red', Count=88),\n Row(State='NM', Color='Yellow', Count=95),\n Row(State='NM', Color='Blue', Count=76),\n Row(State='WY', Color='Red', Count=46),\n Row(State='WA', Color='Red', Count=89),\n Row(State='WY', Color='Brown', Count=78),\n Row(State='TX', Color='Yellow', Count=59),\n Row(State='CO', Color='Yellow', Count=21),\n Row(State='CO', Color='Brown', Count=85),\n Row(State='CO', Color='Orange', Count=15),\n Row(State='AZ', Color='Orange', Count=85),\n Row(State='AZ', Color='Yellow', Count=85),\n Row(State='NM', Color='Green', Count=68),\n Row(State='WY', Color='Blue', Count=50),\n Row(State='UT', Color='Yellow', Count=93),\n Row(State='TX', Color='Brown', Count=88),\n Row(State='NV', Color='Brown', Count=10),\n Row(State='UT', Color='Yellow', Count=37),\n Row(State='NM', Color='Green', Count=54),\n Row(State='NV', Color='Red', Count=68),\n Row(State='AZ', Color='Orange', Count=61),\n Row(State='NM', Color='Yellow', Count=73),\n Row(State='NV', Color='Red', Count=98),\n Row(State='TX', Color='Red', Count=98),\n Row(State='CA', Color='Orange', Count=47),\n Row(State='NV', Color='Red', Count=18),\n Row(State='WY', Color='Brown', Count=15),\n Row(State='TX', Color='Yellow', Count=89),\n Row(State='TX', Color='Brown', Count=27),\n Row(State='TX', Color='Red', Count=10),\n Row(State='NM', Color='Yellow', Count=63),\n Row(State='WA', Color='Green', Count=70),\n Row(State='TX', Color='Yellow', Count=86),\n Row(State='WA', Color='Brown', Count=55),\n Row(State='NM', Color='Yellow', Count=48),\n Row(State='CA', Color='Red', Count=67),\n Row(State='TX', Color='Orange', Count=35),\n Row(State='AZ', Color='Blue', Count=85),\n Row(State='AZ', Color='Green', Count=44),\n Row(State='WA', Color='Green', Count=99),\n Row(State='WY', Color='Blue', Count=90),\n Row(State='UT', Color='Brown', Count=66),\n Row(State='TX', Color='Brown', Count=69),\n Row(State='TX', Color='Orange', Count=47),\n Row(State='AZ', Color='Red', Count=75),\n Row(State='OR', Color='Blue', Count=59),\n Row(State='WA', Color='Orange', Count=55),\n Row(State='WA', Color='Orange', Count=93),\n Row(State='WA', Color='Green', Count=20),\n Row(State='WY', Color='Brown', Count=76),\n Row(State='CO', Color='Yellow', Count=33),\n Row(State='NM', Color='Blue', Count=95),\n Row(State='TX', Color='Green', Count=59),\n Row(State='WA', Color='Brown', Count=21),\n Row(State='AZ', Color='Yellow', Count=19),\n Row(State='UT', Color='Brown', Count=18),\n Row(State='UT', Color='Brown', Count=82),\n Row(State='NV', Color='Blue', Count=97),\n Row(State='NV', Color='Yellow', Count=96),\n Row(State='NV', Color='Green', Count=41),\n Row(State='UT', Color='Red', Count=16),\n Row(State='CA', Color='Yellow', Count=71),\n Row(State='NV', Color='Blue', Count=18),\n Row(State='TX', Color='Green', Count=16),\n Row(State='CA', Color='Red', Count=22),\n Row(State='CA', Color='Brown', Count=96),\n Row(State='CO', Color='Blue', Count=26),\n Row(State='CA', Color='Red', Count=28),\n Row(State='TX', Color='Brown', Count=94),\n Row(State='AZ', Color='Green', Count=54),\n Row(State='TX', Color='Green', Count=14),\n Row(State='NM', Color='Red', Count=58),\n Row(State='WA', Color='Red', Count=49),\n Row(State='AZ', Color='Yellow', Count=83),\n Row(State='NV', Color='Blue', Count=58),\n Row(State='TX', Color='Blue', Count=94),\n Row(State='WY', Color='Yellow', Count=100),\n Row(State='TX', Color='Brown', Count=39),\n Row(State='UT', Color='Green', Count=19),\n Row(State='NV', Color='Orange', Count=17),\n Row(State='NM', Color='Brown', Count=59),\n Row(State='CO', Color='Green', Count=86),\n Row(State='AZ', Color='Brown', Count=68),\n Row(State='AZ', Color='Brown', Count=29),\n Row(State='NM', Color='Red', Count=57),\n Row(State='CO', Color='Brown', Count=15),\n Row(State='AZ', Color='Orange', Count=45),\n Row(State='WA', Color='Blue', Count=96),\n Row(State='OR', Color='Brown', Count=48),\n Row(State='UT', Color='Brown', Count=59),\n Row(State='WY', Color='Orange', Count=84),\n Row(State='WA', Color='Yellow', Count=45),\n Row(State='WY', Color='Green', Count=52),\n Row(State='UT', Color='Red', Count=90),\n Row(State='CO', Color='Red', Count=22),\n Row(State='TX', Color='Brown', Count=92),\n Row(State='WA', Color='Yellow', Count=92),\n Row(State='UT', Color='Yellow', Count=53),\n Row(State='UT', Color='Orange', Count=82),\n Row(State='UT', Color='Red', Count=91),\n Row(State='NM', Color='Green', Count=27),\n Row(State='NV', Color='Green', Count=96),\n Row(State='WA', Color='Red', Count=32),\n Row(State='CA', Color='Brown', Count=90),\n Row(State='WY', Color='Blue', Count=18),\n Row(State='NV', Color='Orange', Count=86),\n Row(State='NV', Color='Red', Count=34),\n Row(State='NV', Color='Brown', Count=30),\n Row(State='WY', Color='Green', Count=57),\n Row(State='UT', Color='Red', Count=84),\n Row(State='NM', Color='Green', Count=45),\n Row(State='UT', Color='Yellow', Count=31),\n Row(State='UT', Color='Yellow', Count=80),\n Row(State='OR', Color='Red', Count=79),\n Row(State='UT', Color='Brown', Count=15),\n Row(State='NV', Color='Orange', Count=51),\n Row(State='CO', Color='Brown', Count=73),\n Row(State='UT', Color='Yellow', Count=67),\n Row(State='WA', Color='Brown', Count=88),\n Row(State='CA', Color='Yellow', Count=60),\n Row(State='TX', Color='Orange', Count=34),\n Row(State='WA', Color='Red', Count=92),\n Row(State='WA', Color='Brown', Count=68),\n Row(State='NV', Color='Orange', Count=18),\n Row(State='WY', Color='Brown', Count=60),\n Row(State='NV', Color='Red', Count=52),\n Row(State='TX', Color='Green', Count=45),\n Row(State='WA', Color='Red', Count=82),\n Row(State='WA', Color='Green', Count=29),\n Row(State='UT', Color='Red', Count=34),\n ...]"
     ]
    }
   ],
   "source": [
    "# we can load in memory a dataframe as list of rows via collect\n",
    "df.collect()"
   ]
  },
  {
   "cell_type": "markdown",
   "metadata": {
    "application/vnd.databricks.v1+cell": {
     "cellMetadata": {
      "byteLimit": 2048000,
      "rowLimit": 10000
     },
     "inputWidgets": {},
     "nuid": "db1dfa88-6c45-4a73-b82c-5de8c360e779",
     "showTitle": false,
     "title": ""
    }
   },
   "source": [
    "## User Defined Functions\n",
    "\n",
    "You can define your own custom functions to transform `DataFrame`s. They are called _User Defined Functions_ (UDF)."
   ]
  },
  {
   "cell_type": "code",
   "execution_count": 0,
   "metadata": {
    "application/vnd.databricks.v1+cell": {
     "cellMetadata": {
      "byteLimit": 2048000,
      "rowLimit": 10000
     },
     "inputWidgets": {},
     "nuid": "65c9d1d0-a56d-41f8-bf30-bfa28a50bd6a",
     "showTitle": false,
     "title": ""
    }
   },
   "outputs": [],
   "source": [
    "from pyspark.sql.functions import udf\n",
    "\n",
    "@udf\n",
    "def to_upper(some_string):\n",
    "    if some_string is not None:\n",
    "        return some_string.upper()"
   ]
  },
  {
   "cell_type": "code",
   "execution_count": 0,
   "metadata": {
    "application/vnd.databricks.v1+cell": {
     "cellMetadata": {
      "byteLimit": 2048000,
      "rowLimit": 10000
     },
     "inputWidgets": {},
     "nuid": "9ccd7062-3b12-4e38-ad97-ace398b885a1",
     "showTitle": false,
     "title": ""
    }
   },
   "outputs": [
    {
     "output_type": "stream",
     "name": "stdout",
     "output_type": "stream",
     "text": [
      "+------+---------------+\n| Color|to_upper(Color)|\n+------+---------------+\n|   Red|            RED|\n|  Blue|           BLUE|\n|  Blue|           BLUE|\n|  Blue|           BLUE|\n|Yellow|         YELLOW|\n+------+---------------+\nonly showing top 5 rows\n\n"
     ]
    }
   ],
   "source": [
    "df.select(\"Color\", to_upper(col(\"Color\"))).show(5)"
   ]
  }
 ],
 "metadata": {
  "application/vnd.databricks.v1+notebook": {
   "dashboards": [],
   "language": "python",
   "notebookMetadata": {
    "pythonIndentUnit": 4
   },
   "notebookName": "3_structured_api",
   "widgets": {}
  }
 },
 "nbformat": 4,
 "nbformat_minor": 0
}
